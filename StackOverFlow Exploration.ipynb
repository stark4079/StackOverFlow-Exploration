{
  "cells": [
    {
      "cell_type": "markdown",
      "metadata": {
        "id": "7wNTqsYWzYXm"
      },
      "source": [
        "# StackOverFlow Survey Exloration"
      ]
    },
    {
      "cell_type": "markdown",
      "source": [
        "## Connect to data source"
      ],
      "metadata": {
        "id": "5NYxV3umf0Yy"
      }
    },
    {
      "cell_type": "code",
      "source": [
        "from google.colab import drive\n",
        "drive.mount('/content/drive/')"
      ],
      "metadata": {
        "colab": {
          "base_uri": "https://localhost:8080/"
        },
        "id": "ZuffVQo3DBo_",
        "outputId": "f3514a0f-aead-4778-840f-13c2500dca3b"
      },
      "execution_count": 1,
      "outputs": [
        {
          "output_type": "stream",
          "name": "stdout",
          "text": [
            "Mounted at /content/drive/\n"
          ]
        }
      ]
    },
    {
      "cell_type": "code",
      "source": [
        "data_folder = '/content/drive/MyDrive/StackOverFlow/'"
      ],
      "metadata": {
        "id": "bbdkAInMDyWV"
      },
      "execution_count": 2,
      "outputs": []
    },
    {
      "cell_type": "markdown",
      "metadata": {
        "id": "XLn7QmO2zYXy"
      },
      "source": [
        "## Import"
      ]
    },
    {
      "cell_type": "code",
      "execution_count": 3,
      "metadata": {
        "id": "BoMGFWrIzYXz"
      },
      "outputs": [],
      "source": [
        "import matplotlib.pyplot as plt\n",
        "import numpy as np\n",
        "import pandas as pd "
      ]
    },
    {
      "cell_type": "markdown",
      "metadata": {
        "id": "c4d-9v7lzYXz"
      },
      "source": [
        "---"
      ]
    },
    {
      "cell_type": "markdown",
      "metadata": {
        "id": "v_sIsvJYzYX0"
      },
      "source": [
        "## Collecting data"
      ]
    },
    {
      "cell_type": "markdown",
      "metadata": {
        "id": "0idzPy2NzYX0"
      },
      "source": [
        "We use the data from a survey of StackOverflow on their developer's community.  We could download the dataset from  this [link](https://drive.google.com/file/d/1dfGerWeWkcyQ9GX9x20rdSGj7WtEpzBB/view).\n",
        "\n",
        "According to the description flie \"README_2020.txt\":\n",
        ">The enclosed data set is the full, cleaned results of the 2020 Stack Overflow Developer Survey. Free response submissions and personally identifying information have been removed from the results to protect the privacy of respondents. There are three files besides this README:\n",
        ">\n",
        ">1. survey_results_public.csv - CSV file with main survey results, one respondent per row and one column per answer\n",
        ">2. survey_results_schema.csv - CSV file with survey schema, i.e., the questions that correspond to each column name\n",
        ">3. so_survey_2020.pdf - PDF file of survey instrument\n",
        ">\n",
        ">The survey was fielded from February 5 to February 28, 2020. The median time spent on the survey for qualified responses was 16.6 minutes.\n",
        ">\n",
        ">Respondents were recruited primarily through channels owned by Stack Overflow. The top 5 sources of respondents were onsite messaging, blog posts, email lists, Meta posts, banner ads, and social media posts. Since respondents were recruited in this way, highly engaged users on Stack Overflow were more likely to notice the links for the survey and click to begin it.\n",
        "\n",
        "We eliminate some columns for easy analysis on file \"survey_results_public-short.csv\" (from 61 to 29 columns) and the description file \"survey_results_schema-short.csv\" to understand what the columns mean. \n",
        "\n",
        "Moreover: \n",
        "- This dataset only represents their community on StackOverFlow, not for global developers, thus the insights from this dataset are limited inside this community.\n",
        "\n",
        "LICENSE\n",
        ">This database - The Public 2020 Stack Overflow Developer Survey Results - is made available under the Open Database License (ODbL): http://opendatacommons.org/licenses/odbl/1.0/. Any rights in individual contents of the database are licensed under the Database Contents License: http://opendatacommons.org/licenses/dbcl/1.0/\n",
        ">\n",
        ">TLDR: You are free to share, adapt, and create derivative works from The Public 2020 Stack Overflow Developer Survey Results as long as you attribute Stack Overflow, keep the database open (if you redistribute it), and continue to share-alike any adapted database under the ODbl.\n"
      ]
    },
    {
      "cell_type": "markdown",
      "metadata": {
        "id": "mTJZbta8zYX1"
      },
      "source": [
        "---"
      ]
    },
    {
      "cell_type": "markdown",
      "metadata": {
        "id": "DUYY13l3zYX1"
      },
      "source": [
        "## Explore data I"
      ]
    },
    {
      "cell_type": "markdown",
      "metadata": {
        "id": "e1Y-0WLvzYX2"
      },
      "source": [
        "### Read data"
      ]
    },
    {
      "cell_type": "markdown",
      "metadata": {
        "id": "cnpRPeUdzYX2"
      },
      "source": [
        "Firstly, read data from \"survey_results_public-short.csv\" and save the result into DataFrame `survey_df`. Moreover, the index column is the `Respondent`."
      ]
    },
    {
      "cell_type": "code",
      "execution_count": 4,
      "metadata": {
        "deletable": false,
        "nbgrader": {
          "cell_type": "code",
          "checksum": "0bf411943f48101b385795cb06db43f4",
          "grade": true,
          "grade_id": "cell-d46e97079096473c",
          "locked": false,
          "points": 0.25,
          "schema_version": 3,
          "solution": true,
          "task": false
        },
        "id": "AcIFAl-uzYX2"
      },
      "outputs": [],
      "source": [
        "survey_df = pd.read_csv(data_folder+\"survey_results_public-short.csv\", index_col='Respondent')"
      ]
    },
    {
      "cell_type": "code",
      "execution_count": 5,
      "metadata": {
        "id": "O6CsFa3ZzYX2",
        "outputId": "aa34d38a-3031-437d-df84-d6c770b54d2b",
        "colab": {
          "base_uri": "https://localhost:8080/",
          "height": 748
        }
      },
      "outputs": [
        {
          "output_type": "execute_result",
          "data": {
            "text/plain": [
              "                                                   MainBranch Hobbyist   Age  \\\n",
              "Respondent                                                                     \n",
              "1                              I am a developer by profession      Yes   NaN   \n",
              "2                              I am a developer by profession       No   NaN   \n",
              "3                                 I code primarily as a hobby      Yes   NaN   \n",
              "4                              I am a developer by profession      Yes  25.0   \n",
              "5           I used to be a developer by profession, but no...      Yes  31.0   \n",
              "\n",
              "            ConvertedComp             Country  \\\n",
              "Respondent                                      \n",
              "1                     NaN             Germany   \n",
              "2                     NaN      United Kingdom   \n",
              "3                     NaN  Russian Federation   \n",
              "4                     NaN             Albania   \n",
              "5                     NaN       United States   \n",
              "\n",
              "                                                      DevType  \\\n",
              "Respondent                                                      \n",
              "1           Developer, desktop or enterprise applications;...   \n",
              "2                     Developer, full-stack;Developer, mobile   \n",
              "3                                                         NaN   \n",
              "4                                                         NaN   \n",
              "5                                                         NaN   \n",
              "\n",
              "                                                    EdLevel  \\\n",
              "Respondent                                                    \n",
              "1           Master’s degree (M.A., M.S., M.Eng., MBA, etc.)   \n",
              "2              Bachelor’s degree (B.A., B.S., B.Eng., etc.)   \n",
              "3                                                       NaN   \n",
              "4           Master’s degree (M.A., M.S., M.Eng., MBA, etc.)   \n",
              "5              Bachelor’s degree (B.A., B.S., B.Eng., etc.)   \n",
              "\n",
              "                                                   Employment  \\\n",
              "Respondent                                                      \n",
              "1           Independent contractor, freelancer, or self-em...   \n",
              "2                                          Employed full-time   \n",
              "3                                                         NaN   \n",
              "4                                                         NaN   \n",
              "5                                          Employed full-time   \n",
              "\n",
              "                               Ethnicity Gender  ...  \\\n",
              "Respondent                                       ...   \n",
              "1           White or of European descent    Man  ...   \n",
              "2                                    NaN    NaN  ...   \n",
              "3                                    NaN    NaN  ...   \n",
              "4           White or of European descent    Man  ...   \n",
              "5           White or of European descent    Man  ...   \n",
              "\n",
              "                                     NEWEdImpt       NEWLearn  \\\n",
              "Respondent                                                      \n",
              "1                             Fairly important    Once a year   \n",
              "2                             Fairly important    Once a year   \n",
              "3                                          NaN  Once a decade   \n",
              "4           Not at all important/not necessary    Once a year   \n",
              "5                               Very important    Once a year   \n",
              "\n",
              "                                                  NEWOvertime  \\\n",
              "Respondent                                                      \n",
              "1                            Often: 1-2 days per week or more   \n",
              "2                                                         NaN   \n",
              "3                                                         NaN   \n",
              "4           Occasionally: 1-2 days per quarter but less th...   \n",
              "5                                                         NaN   \n",
              "\n",
              "                                                     NEWStuck        OpSys  \\\n",
              "Respondent                                                                   \n",
              "1           Visit Stack Overflow;Go for a walk or other ph...      Windows   \n",
              "2           Visit Stack Overflow;Go for a walk or other ph...        MacOS   \n",
              "3                                                         NaN  Linux-based   \n",
              "4                                                         NaN  Linux-based   \n",
              "5           Call a coworker or friend;Visit Stack Overflow...      Windows   \n",
              "\n",
              "                                       PlatformDesireNextYear  \\\n",
              "Respondent                                                      \n",
              "1              Android;iOS;Kubernetes;Microsoft Azure;Windows   \n",
              "2                                  iOS;Kubernetes;Linux;MacOS   \n",
              "3                                                         NaN   \n",
              "4                                                         NaN   \n",
              "5           Docker;Google Cloud Platform;Heroku;Linux;Windows   \n",
              "\n",
              "                        PlatformWorkedWith WorkWeekHrs YearsCode YearsCodePro  \n",
              "Respondent                                                                     \n",
              "1                                  Windows        50.0        36           27  \n",
              "2                                      iOS         NaN         7            4  \n",
              "3                                      NaN         NaN         4          NaN  \n",
              "4                                      NaN        40.0         7            4  \n",
              "5           AWS;Docker;Linux;MacOS;Windows         NaN        15            8  \n",
              "\n",
              "[5 rows x 28 columns]"
            ],
            "text/html": [
              "\n",
              "  <div id=\"df-b74d9af1-c120-493f-9efe-67bbc61723a6\">\n",
              "    <div class=\"colab-df-container\">\n",
              "      <div>\n",
              "<style scoped>\n",
              "    .dataframe tbody tr th:only-of-type {\n",
              "        vertical-align: middle;\n",
              "    }\n",
              "\n",
              "    .dataframe tbody tr th {\n",
              "        vertical-align: top;\n",
              "    }\n",
              "\n",
              "    .dataframe thead th {\n",
              "        text-align: right;\n",
              "    }\n",
              "</style>\n",
              "<table border=\"1\" class=\"dataframe\">\n",
              "  <thead>\n",
              "    <tr style=\"text-align: right;\">\n",
              "      <th></th>\n",
              "      <th>MainBranch</th>\n",
              "      <th>Hobbyist</th>\n",
              "      <th>Age</th>\n",
              "      <th>ConvertedComp</th>\n",
              "      <th>Country</th>\n",
              "      <th>DevType</th>\n",
              "      <th>EdLevel</th>\n",
              "      <th>Employment</th>\n",
              "      <th>Ethnicity</th>\n",
              "      <th>Gender</th>\n",
              "      <th>...</th>\n",
              "      <th>NEWEdImpt</th>\n",
              "      <th>NEWLearn</th>\n",
              "      <th>NEWOvertime</th>\n",
              "      <th>NEWStuck</th>\n",
              "      <th>OpSys</th>\n",
              "      <th>PlatformDesireNextYear</th>\n",
              "      <th>PlatformWorkedWith</th>\n",
              "      <th>WorkWeekHrs</th>\n",
              "      <th>YearsCode</th>\n",
              "      <th>YearsCodePro</th>\n",
              "    </tr>\n",
              "    <tr>\n",
              "      <th>Respondent</th>\n",
              "      <th></th>\n",
              "      <th></th>\n",
              "      <th></th>\n",
              "      <th></th>\n",
              "      <th></th>\n",
              "      <th></th>\n",
              "      <th></th>\n",
              "      <th></th>\n",
              "      <th></th>\n",
              "      <th></th>\n",
              "      <th></th>\n",
              "      <th></th>\n",
              "      <th></th>\n",
              "      <th></th>\n",
              "      <th></th>\n",
              "      <th></th>\n",
              "      <th></th>\n",
              "      <th></th>\n",
              "      <th></th>\n",
              "      <th></th>\n",
              "      <th></th>\n",
              "    </tr>\n",
              "  </thead>\n",
              "  <tbody>\n",
              "    <tr>\n",
              "      <th>1</th>\n",
              "      <td>I am a developer by profession</td>\n",
              "      <td>Yes</td>\n",
              "      <td>NaN</td>\n",
              "      <td>NaN</td>\n",
              "      <td>Germany</td>\n",
              "      <td>Developer, desktop or enterprise applications;...</td>\n",
              "      <td>Master’s degree (M.A., M.S., M.Eng., MBA, etc.)</td>\n",
              "      <td>Independent contractor, freelancer, or self-em...</td>\n",
              "      <td>White or of European descent</td>\n",
              "      <td>Man</td>\n",
              "      <td>...</td>\n",
              "      <td>Fairly important</td>\n",
              "      <td>Once a year</td>\n",
              "      <td>Often: 1-2 days per week or more</td>\n",
              "      <td>Visit Stack Overflow;Go for a walk or other ph...</td>\n",
              "      <td>Windows</td>\n",
              "      <td>Android;iOS;Kubernetes;Microsoft Azure;Windows</td>\n",
              "      <td>Windows</td>\n",
              "      <td>50.0</td>\n",
              "      <td>36</td>\n",
              "      <td>27</td>\n",
              "    </tr>\n",
              "    <tr>\n",
              "      <th>2</th>\n",
              "      <td>I am a developer by profession</td>\n",
              "      <td>No</td>\n",
              "      <td>NaN</td>\n",
              "      <td>NaN</td>\n",
              "      <td>United Kingdom</td>\n",
              "      <td>Developer, full-stack;Developer, mobile</td>\n",
              "      <td>Bachelor’s degree (B.A., B.S., B.Eng., etc.)</td>\n",
              "      <td>Employed full-time</td>\n",
              "      <td>NaN</td>\n",
              "      <td>NaN</td>\n",
              "      <td>...</td>\n",
              "      <td>Fairly important</td>\n",
              "      <td>Once a year</td>\n",
              "      <td>NaN</td>\n",
              "      <td>Visit Stack Overflow;Go for a walk or other ph...</td>\n",
              "      <td>MacOS</td>\n",
              "      <td>iOS;Kubernetes;Linux;MacOS</td>\n",
              "      <td>iOS</td>\n",
              "      <td>NaN</td>\n",
              "      <td>7</td>\n",
              "      <td>4</td>\n",
              "    </tr>\n",
              "    <tr>\n",
              "      <th>3</th>\n",
              "      <td>I code primarily as a hobby</td>\n",
              "      <td>Yes</td>\n",
              "      <td>NaN</td>\n",
              "      <td>NaN</td>\n",
              "      <td>Russian Federation</td>\n",
              "      <td>NaN</td>\n",
              "      <td>NaN</td>\n",
              "      <td>NaN</td>\n",
              "      <td>NaN</td>\n",
              "      <td>NaN</td>\n",
              "      <td>...</td>\n",
              "      <td>NaN</td>\n",
              "      <td>Once a decade</td>\n",
              "      <td>NaN</td>\n",
              "      <td>NaN</td>\n",
              "      <td>Linux-based</td>\n",
              "      <td>NaN</td>\n",
              "      <td>NaN</td>\n",
              "      <td>NaN</td>\n",
              "      <td>4</td>\n",
              "      <td>NaN</td>\n",
              "    </tr>\n",
              "    <tr>\n",
              "      <th>4</th>\n",
              "      <td>I am a developer by profession</td>\n",
              "      <td>Yes</td>\n",
              "      <td>25.0</td>\n",
              "      <td>NaN</td>\n",
              "      <td>Albania</td>\n",
              "      <td>NaN</td>\n",
              "      <td>Master’s degree (M.A., M.S., M.Eng., MBA, etc.)</td>\n",
              "      <td>NaN</td>\n",
              "      <td>White or of European descent</td>\n",
              "      <td>Man</td>\n",
              "      <td>...</td>\n",
              "      <td>Not at all important/not necessary</td>\n",
              "      <td>Once a year</td>\n",
              "      <td>Occasionally: 1-2 days per quarter but less th...</td>\n",
              "      <td>NaN</td>\n",
              "      <td>Linux-based</td>\n",
              "      <td>NaN</td>\n",
              "      <td>NaN</td>\n",
              "      <td>40.0</td>\n",
              "      <td>7</td>\n",
              "      <td>4</td>\n",
              "    </tr>\n",
              "    <tr>\n",
              "      <th>5</th>\n",
              "      <td>I used to be a developer by profession, but no...</td>\n",
              "      <td>Yes</td>\n",
              "      <td>31.0</td>\n",
              "      <td>NaN</td>\n",
              "      <td>United States</td>\n",
              "      <td>NaN</td>\n",
              "      <td>Bachelor’s degree (B.A., B.S., B.Eng., etc.)</td>\n",
              "      <td>Employed full-time</td>\n",
              "      <td>White or of European descent</td>\n",
              "      <td>Man</td>\n",
              "      <td>...</td>\n",
              "      <td>Very important</td>\n",
              "      <td>Once a year</td>\n",
              "      <td>NaN</td>\n",
              "      <td>Call a coworker or friend;Visit Stack Overflow...</td>\n",
              "      <td>Windows</td>\n",
              "      <td>Docker;Google Cloud Platform;Heroku;Linux;Windows</td>\n",
              "      <td>AWS;Docker;Linux;MacOS;Windows</td>\n",
              "      <td>NaN</td>\n",
              "      <td>15</td>\n",
              "      <td>8</td>\n",
              "    </tr>\n",
              "  </tbody>\n",
              "</table>\n",
              "<p>5 rows × 28 columns</p>\n",
              "</div>\n",
              "      <button class=\"colab-df-convert\" onclick=\"convertToInteractive('df-b74d9af1-c120-493f-9efe-67bbc61723a6')\"\n",
              "              title=\"Convert this dataframe to an interactive table.\"\n",
              "              style=\"display:none;\">\n",
              "        \n",
              "  <svg xmlns=\"http://www.w3.org/2000/svg\" height=\"24px\"viewBox=\"0 0 24 24\"\n",
              "       width=\"24px\">\n",
              "    <path d=\"M0 0h24v24H0V0z\" fill=\"none\"/>\n",
              "    <path d=\"M18.56 5.44l.94 2.06.94-2.06 2.06-.94-2.06-.94-.94-2.06-.94 2.06-2.06.94zm-11 1L8.5 8.5l.94-2.06 2.06-.94-2.06-.94L8.5 2.5l-.94 2.06-2.06.94zm10 10l.94 2.06.94-2.06 2.06-.94-2.06-.94-.94-2.06-.94 2.06-2.06.94z\"/><path d=\"M17.41 7.96l-1.37-1.37c-.4-.4-.92-.59-1.43-.59-.52 0-1.04.2-1.43.59L10.3 9.45l-7.72 7.72c-.78.78-.78 2.05 0 2.83L4 21.41c.39.39.9.59 1.41.59.51 0 1.02-.2 1.41-.59l7.78-7.78 2.81-2.81c.8-.78.8-2.07 0-2.86zM5.41 20L4 18.59l7.72-7.72 1.47 1.35L5.41 20z\"/>\n",
              "  </svg>\n",
              "      </button>\n",
              "      \n",
              "  <style>\n",
              "    .colab-df-container {\n",
              "      display:flex;\n",
              "      flex-wrap:wrap;\n",
              "      gap: 12px;\n",
              "    }\n",
              "\n",
              "    .colab-df-convert {\n",
              "      background-color: #E8F0FE;\n",
              "      border: none;\n",
              "      border-radius: 50%;\n",
              "      cursor: pointer;\n",
              "      display: none;\n",
              "      fill: #1967D2;\n",
              "      height: 32px;\n",
              "      padding: 0 0 0 0;\n",
              "      width: 32px;\n",
              "    }\n",
              "\n",
              "    .colab-df-convert:hover {\n",
              "      background-color: #E2EBFA;\n",
              "      box-shadow: 0px 1px 2px rgba(60, 64, 67, 0.3), 0px 1px 3px 1px rgba(60, 64, 67, 0.15);\n",
              "      fill: #174EA6;\n",
              "    }\n",
              "\n",
              "    [theme=dark] .colab-df-convert {\n",
              "      background-color: #3B4455;\n",
              "      fill: #D2E3FC;\n",
              "    }\n",
              "\n",
              "    [theme=dark] .colab-df-convert:hover {\n",
              "      background-color: #434B5C;\n",
              "      box-shadow: 0px 1px 3px 1px rgba(0, 0, 0, 0.15);\n",
              "      filter: drop-shadow(0px 1px 2px rgba(0, 0, 0, 0.3));\n",
              "      fill: #FFFFFF;\n",
              "    }\n",
              "  </style>\n",
              "\n",
              "      <script>\n",
              "        const buttonEl =\n",
              "          document.querySelector('#df-b74d9af1-c120-493f-9efe-67bbc61723a6 button.colab-df-convert');\n",
              "        buttonEl.style.display =\n",
              "          google.colab.kernel.accessAllowed ? 'block' : 'none';\n",
              "\n",
              "        async function convertToInteractive(key) {\n",
              "          const element = document.querySelector('#df-b74d9af1-c120-493f-9efe-67bbc61723a6');\n",
              "          const dataTable =\n",
              "            await google.colab.kernel.invokeFunction('convertToInteractive',\n",
              "                                                     [key], {});\n",
              "          if (!dataTable) return;\n",
              "\n",
              "          const docLinkHtml = 'Like what you see? Visit the ' +\n",
              "            '<a target=\"_blank\" href=https://colab.research.google.com/notebooks/data_table.ipynb>data table notebook</a>'\n",
              "            + ' to learn more about interactive tables.';\n",
              "          element.innerHTML = '';\n",
              "          dataTable['output_type'] = 'display_data';\n",
              "          await google.colab.output.renderOutput(dataTable, element);\n",
              "          const docLink = document.createElement('div');\n",
              "          docLink.innerHTML = docLinkHtml;\n",
              "          element.appendChild(docLink);\n",
              "        }\n",
              "      </script>\n",
              "    </div>\n",
              "  </div>\n",
              "  "
            ]
          },
          "metadata": {},
          "execution_count": 5
        }
      ],
      "source": [
        "# TEST\n",
        "survey_df.head()"
      ]
    },
    {
      "cell_type": "markdown",
      "metadata": {
        "id": "YHry0IGZzYX3"
      },
      "source": [
        "### How many rows and columns?"
      ]
    },
    {
      "cell_type": "markdown",
      "metadata": {
        "id": "KHLcCqihzYX3"
      },
      "source": [
        "Next, we save the number of columns and rows into `num_rows` and `num_cols`."
      ]
    },
    {
      "cell_type": "code",
      "execution_count": 6,
      "metadata": {
        "deletable": false,
        "nbgrader": {
          "cell_type": "code",
          "checksum": "607dbbe4997f90db7ca9d3e0c596d38a",
          "grade": false,
          "grade_id": "cell-8338f3610f6c5002",
          "locked": false,
          "schema_version": 3,
          "solution": true,
          "task": false
        },
        "id": "-sO4Cc8FzYX3",
        "colab": {
          "base_uri": "https://localhost:8080/"
        },
        "outputId": "455a19d7-4073-469b-e2f0-4a43dcdad7a1"
      },
      "outputs": [
        {
          "output_type": "execute_result",
          "data": {
            "text/plain": [
              "(64461, 28)"
            ]
          },
          "metadata": {},
          "execution_count": 6
        }
      ],
      "source": [
        "num_rows, num_cols = survey_df.shape\n",
        "num_rows, num_cols"
      ]
    },
    {
      "cell_type": "markdown",
      "metadata": {
        "id": "5QCq-j1ZzYX6"
      },
      "source": [
        "### What is each row meaning? Are there any diffenrence?"
      ]
    },
    {
      "cell_type": "markdown",
      "metadata": {
        "id": "v5mNeLyxzYX6"
      },
      "source": [
        "According to \"README_2020.txt\", each row in `survey_df` represents for the survey's result of one people."
      ]
    },
    {
      "cell_type": "markdown",
      "metadata": {
        "id": "esGj1t79zYX6"
      },
      "source": [
        "### Is there any duplicated row?"
      ]
    },
    {
      "cell_type": "code",
      "execution_count": 7,
      "metadata": {
        "deletable": false,
        "nbgrader": {
          "cell_type": "code",
          "checksum": "8562ed8052a1cfb4a1c033be002aa083",
          "grade": false,
          "grade_id": "cell-aadbfe12be205faa",
          "locked": false,
          "schema_version": 3,
          "solution": true,
          "task": false
        },
        "id": "cx5FgFB-zYX7",
        "colab": {
          "base_uri": "https://localhost:8080/"
        },
        "outputId": "8d8104fe-d54d-46e7-bd08-99a3d1d10110"
      },
      "outputs": [
        {
          "output_type": "execute_result",
          "data": {
            "text/plain": [
              "0"
            ]
          },
          "metadata": {},
          "execution_count": 7
        }
      ],
      "source": [
        "num_duplicated_rows = survey_df.index.duplicated().sum()\n",
        "num_duplicated_rows"
      ]
    },
    {
      "cell_type": "markdown",
      "metadata": {
        "id": "jkLx1tx7zYX7"
      },
      "source": [
        "### How are the columns meaning?"
      ]
    },
    {
      "cell_type": "code",
      "execution_count": 8,
      "metadata": {
        "deletable": false,
        "nbgrader": {
          "cell_type": "code",
          "checksum": "bc5afa2bdb3831c9bfdc88a3d0aeff5b",
          "grade": true,
          "grade_id": "cell-5efb0517df207535",
          "locked": false,
          "points": 0.25,
          "schema_version": 3,
          "solution": true,
          "task": false
        },
        "id": "qsgjywYuzYX8"
      },
      "outputs": [],
      "source": [
        "col_meaning_df = pd.read_csv(data_folder+\"survey_results_schema-short.csv\", index_col='Column')\n",
        "pd.set_option('max_colwidth', None)"
      ]
    },
    {
      "cell_type": "code",
      "execution_count": 9,
      "metadata": {
        "id": "cgVrD0jSzYX8",
        "outputId": "828006f1-5760-4b31-8511-d57d46d28f3d",
        "colab": {
          "base_uri": "https://localhost:8080/",
          "height": 1000
        }
      },
      "outputs": [
        {
          "output_type": "execute_result",
          "data": {
            "text/plain": [
              "                                                                                                                                                                                                                                                                                                    QuestionText\n",
              "Column                                                                                                                                                                                                                                                                                                          \n",
              "Respondent                                                                                                                                                                                                                                Randomized respondent ID number (not in order of survey response time)\n",
              "MainBranch                                                                                                                                                                                      Which of the following options best describes you today? Here, by \"developer\" we mean \"someone who writes code.\"\n",
              "Hobbyist                                                                                                                                                                                                                                                                                 Do you code as a hobby?\n",
              "Age                                                                                                                                                                                                                 What is your age (in years)? If you prefer not to answer, you may leave this question blank.\n",
              "ConvertedComp                                                                                                                                                                    Salary converted to annual USD salaries using the exchange rate on 2020-02-19, assuming 12 working months and 50 working weeks.\n",
              "Country                                                                                                                                                                                                                                                                                       Where do you live?\n",
              "DevType                                                                                                                                                                                                                                       Which of the following describe you? Please select all that apply.\n",
              "EdLevel                                                                                                                                                                                                       Which of the following best describes the highest level of formal education that you’ve completed?\n",
              "Employment                                                                                                                                                                                                                                 Which of the following best describes your current employment status?\n",
              "Ethnicity                                                                                                                                                              Which of the following describe you, if any? Please check all that apply. If you prefer not to answer, you may leave this question blank.\n",
              "Gender                                                                                                                                                                 Which of the following describe you, if any? Please check all that apply. If you prefer not to answer, you may leave this question blank.\n",
              "JobFactors                                                                                                                                 Imagine that you are deciding between two job offers with the same compensation, benefits, and location. Of the following factors, which 3 are MOST important to you?\n",
              "JobSat                                                                                                                                                                                 How satisfied are you with your current job? (If you work multiple jobs, answer for the one you spend the most hours on.)\n",
              "LanguageDesireNextYear        Which programming, scripting, and markup languages have you done extensive development work in over the past year, and which do you want to work in over the next year? (If you both worked with the language and want to continue to do so, please check both boxes in that row.)\n",
              "LanguageWorkedWith            Which programming, scripting, and markup languages have you done extensive development work in over the past year, and which do you want to work in over the next year? (If you both worked with the language and want to continue to do so, please check both boxes in that row.)\n",
              "MiscTechDesireNextYear             Which other frameworks, libraries, and tools have you done extensive development work in over the past year, and which do you want to work in over the next year? (If you both worked with the framework and want to continue to do so, please check both boxes in that row.)\n",
              "MiscTechWorkedWith                 Which other frameworks, libraries, and tools have you done extensive development work in over the past year, and which do you want to work in over the next year? (If you both worked with the framework and want to continue to do so, please check both boxes in that row.)\n",
              "NEWCollabToolsDesireNextYear                                    Which collaboration tools have you done extensive development work in over the past year, and which do you want to work in over the next year? (If you worked with the tool and want to continue to do so, please check both boxes in that row.)\n",
              "NEWCollabToolsWorkedWith                                        Which collaboration tools have you done extensive development work in over the past year, and which do you want to work in over the next year? (If you worked with the tool and want to continue to do so, please check both boxes in that row.)\n",
              "NEWEdImpt                                                                                                                                                                                                  How important is a formal education, such as a university degree in computer science, to your career?\n",
              "NEWLearn                                                                                                                                                                                                                                                How frequently do you learn a new language or framework?\n",
              "NEWOvertime                                                                                                                                                                                                                    How often do you work overtime or beyond the formal time expectation of your job?\n",
              "NEWStuck                                                                                                                                                                                                                                  What do you do when you get stuck on a problem? Select all that apply.\n",
              "OpSys                                                                                                                                                                                                                                                    What is the primary operating system in which you work?\n",
              "PlatformDesireNextYear                                           Which platforms have you done extensive development work in over the past year, and which do you want to work in over the next year? (If you both worked with the platform and want to continue to do so, please check both boxes in that row.)\n",
              "PlatformWorkedWith                                               Which platforms have you done extensive development work in over the past year, and which do you want to work in over the next year? (If you both worked with the platform and want to continue to do so, please check both boxes in that row.)\n",
              "WorkWeekHrs                                                                                                                                                                                                             On average, how many hours per week do you work? Please enter a whole number in the box.\n",
              "YearsCode                                                                                                                                                                                                                                 Including any education, how many years have you been coding in total?\n",
              "YearsCodePro                                                                                                                                                                                                     NOT including education, how many years have you coded professionally (as a part of your work)?"
            ],
            "text/html": [
              "\n",
              "  <div id=\"df-4d5e3f62-e5e6-45d5-b3a1-14aae1510cde\">\n",
              "    <div class=\"colab-df-container\">\n",
              "      <div>\n",
              "<style scoped>\n",
              "    .dataframe tbody tr th:only-of-type {\n",
              "        vertical-align: middle;\n",
              "    }\n",
              "\n",
              "    .dataframe tbody tr th {\n",
              "        vertical-align: top;\n",
              "    }\n",
              "\n",
              "    .dataframe thead th {\n",
              "        text-align: right;\n",
              "    }\n",
              "</style>\n",
              "<table border=\"1\" class=\"dataframe\">\n",
              "  <thead>\n",
              "    <tr style=\"text-align: right;\">\n",
              "      <th></th>\n",
              "      <th>QuestionText</th>\n",
              "    </tr>\n",
              "    <tr>\n",
              "      <th>Column</th>\n",
              "      <th></th>\n",
              "    </tr>\n",
              "  </thead>\n",
              "  <tbody>\n",
              "    <tr>\n",
              "      <th>Respondent</th>\n",
              "      <td>Randomized respondent ID number (not in order of survey response time)</td>\n",
              "    </tr>\n",
              "    <tr>\n",
              "      <th>MainBranch</th>\n",
              "      <td>Which of the following options best describes you today? Here, by \"developer\" we mean \"someone who writes code.\"</td>\n",
              "    </tr>\n",
              "    <tr>\n",
              "      <th>Hobbyist</th>\n",
              "      <td>Do you code as a hobby?</td>\n",
              "    </tr>\n",
              "    <tr>\n",
              "      <th>Age</th>\n",
              "      <td>What is your age (in years)? If you prefer not to answer, you may leave this question blank.</td>\n",
              "    </tr>\n",
              "    <tr>\n",
              "      <th>ConvertedComp</th>\n",
              "      <td>Salary converted to annual USD salaries using the exchange rate on 2020-02-19, assuming 12 working months and 50 working weeks.</td>\n",
              "    </tr>\n",
              "    <tr>\n",
              "      <th>Country</th>\n",
              "      <td>Where do you live?</td>\n",
              "    </tr>\n",
              "    <tr>\n",
              "      <th>DevType</th>\n",
              "      <td>Which of the following describe you? Please select all that apply.</td>\n",
              "    </tr>\n",
              "    <tr>\n",
              "      <th>EdLevel</th>\n",
              "      <td>Which of the following best describes the highest level of formal education that you’ve completed?</td>\n",
              "    </tr>\n",
              "    <tr>\n",
              "      <th>Employment</th>\n",
              "      <td>Which of the following best describes your current employment status?</td>\n",
              "    </tr>\n",
              "    <tr>\n",
              "      <th>Ethnicity</th>\n",
              "      <td>Which of the following describe you, if any? Please check all that apply. If you prefer not to answer, you may leave this question blank.</td>\n",
              "    </tr>\n",
              "    <tr>\n",
              "      <th>Gender</th>\n",
              "      <td>Which of the following describe you, if any? Please check all that apply. If you prefer not to answer, you may leave this question blank.</td>\n",
              "    </tr>\n",
              "    <tr>\n",
              "      <th>JobFactors</th>\n",
              "      <td>Imagine that you are deciding between two job offers with the same compensation, benefits, and location. Of the following factors, which 3 are MOST important to you?</td>\n",
              "    </tr>\n",
              "    <tr>\n",
              "      <th>JobSat</th>\n",
              "      <td>How satisfied are you with your current job? (If you work multiple jobs, answer for the one you spend the most hours on.)</td>\n",
              "    </tr>\n",
              "    <tr>\n",
              "      <th>LanguageDesireNextYear</th>\n",
              "      <td>Which programming, scripting, and markup languages have you done extensive development work in over the past year, and which do you want to work in over the next year? (If you both worked with the language and want to continue to do so, please check both boxes in that row.)</td>\n",
              "    </tr>\n",
              "    <tr>\n",
              "      <th>LanguageWorkedWith</th>\n",
              "      <td>Which programming, scripting, and markup languages have you done extensive development work in over the past year, and which do you want to work in over the next year? (If you both worked with the language and want to continue to do so, please check both boxes in that row.)</td>\n",
              "    </tr>\n",
              "    <tr>\n",
              "      <th>MiscTechDesireNextYear</th>\n",
              "      <td>Which other frameworks, libraries, and tools have you done extensive development work in over the past year, and which do you want to work in over the next year? (If you both worked with the framework and want to continue to do so, please check both boxes in that row.)</td>\n",
              "    </tr>\n",
              "    <tr>\n",
              "      <th>MiscTechWorkedWith</th>\n",
              "      <td>Which other frameworks, libraries, and tools have you done extensive development work in over the past year, and which do you want to work in over the next year? (If you both worked with the framework and want to continue to do so, please check both boxes in that row.)</td>\n",
              "    </tr>\n",
              "    <tr>\n",
              "      <th>NEWCollabToolsDesireNextYear</th>\n",
              "      <td>Which collaboration tools have you done extensive development work in over the past year, and which do you want to work in over the next year? (If you worked with the tool and want to continue to do so, please check both boxes in that row.)</td>\n",
              "    </tr>\n",
              "    <tr>\n",
              "      <th>NEWCollabToolsWorkedWith</th>\n",
              "      <td>Which collaboration tools have you done extensive development work in over the past year, and which do you want to work in over the next year? (If you worked with the tool and want to continue to do so, please check both boxes in that row.)</td>\n",
              "    </tr>\n",
              "    <tr>\n",
              "      <th>NEWEdImpt</th>\n",
              "      <td>How important is a formal education, such as a university degree in computer science, to your career?</td>\n",
              "    </tr>\n",
              "    <tr>\n",
              "      <th>NEWLearn</th>\n",
              "      <td>How frequently do you learn a new language or framework?</td>\n",
              "    </tr>\n",
              "    <tr>\n",
              "      <th>NEWOvertime</th>\n",
              "      <td>How often do you work overtime or beyond the formal time expectation of your job?</td>\n",
              "    </tr>\n",
              "    <tr>\n",
              "      <th>NEWStuck</th>\n",
              "      <td>What do you do when you get stuck on a problem? Select all that apply.</td>\n",
              "    </tr>\n",
              "    <tr>\n",
              "      <th>OpSys</th>\n",
              "      <td>What is the primary operating system in which you work?</td>\n",
              "    </tr>\n",
              "    <tr>\n",
              "      <th>PlatformDesireNextYear</th>\n",
              "      <td>Which platforms have you done extensive development work in over the past year, and which do you want to work in over the next year? (If you both worked with the platform and want to continue to do so, please check both boxes in that row.)</td>\n",
              "    </tr>\n",
              "    <tr>\n",
              "      <th>PlatformWorkedWith</th>\n",
              "      <td>Which platforms have you done extensive development work in over the past year, and which do you want to work in over the next year? (If you both worked with the platform and want to continue to do so, please check both boxes in that row.)</td>\n",
              "    </tr>\n",
              "    <tr>\n",
              "      <th>WorkWeekHrs</th>\n",
              "      <td>On average, how many hours per week do you work? Please enter a whole number in the box.</td>\n",
              "    </tr>\n",
              "    <tr>\n",
              "      <th>YearsCode</th>\n",
              "      <td>Including any education, how many years have you been coding in total?</td>\n",
              "    </tr>\n",
              "    <tr>\n",
              "      <th>YearsCodePro</th>\n",
              "      <td>NOT including education, how many years have you coded professionally (as a part of your work)?</td>\n",
              "    </tr>\n",
              "  </tbody>\n",
              "</table>\n",
              "</div>\n",
              "      <button class=\"colab-df-convert\" onclick=\"convertToInteractive('df-4d5e3f62-e5e6-45d5-b3a1-14aae1510cde')\"\n",
              "              title=\"Convert this dataframe to an interactive table.\"\n",
              "              style=\"display:none;\">\n",
              "        \n",
              "  <svg xmlns=\"http://www.w3.org/2000/svg\" height=\"24px\"viewBox=\"0 0 24 24\"\n",
              "       width=\"24px\">\n",
              "    <path d=\"M0 0h24v24H0V0z\" fill=\"none\"/>\n",
              "    <path d=\"M18.56 5.44l.94 2.06.94-2.06 2.06-.94-2.06-.94-.94-2.06-.94 2.06-2.06.94zm-11 1L8.5 8.5l.94-2.06 2.06-.94-2.06-.94L8.5 2.5l-.94 2.06-2.06.94zm10 10l.94 2.06.94-2.06 2.06-.94-2.06-.94-.94-2.06-.94 2.06-2.06.94z\"/><path d=\"M17.41 7.96l-1.37-1.37c-.4-.4-.92-.59-1.43-.59-.52 0-1.04.2-1.43.59L10.3 9.45l-7.72 7.72c-.78.78-.78 2.05 0 2.83L4 21.41c.39.39.9.59 1.41.59.51 0 1.02-.2 1.41-.59l7.78-7.78 2.81-2.81c.8-.78.8-2.07 0-2.86zM5.41 20L4 18.59l7.72-7.72 1.47 1.35L5.41 20z\"/>\n",
              "  </svg>\n",
              "      </button>\n",
              "      \n",
              "  <style>\n",
              "    .colab-df-container {\n",
              "      display:flex;\n",
              "      flex-wrap:wrap;\n",
              "      gap: 12px;\n",
              "    }\n",
              "\n",
              "    .colab-df-convert {\n",
              "      background-color: #E8F0FE;\n",
              "      border: none;\n",
              "      border-radius: 50%;\n",
              "      cursor: pointer;\n",
              "      display: none;\n",
              "      fill: #1967D2;\n",
              "      height: 32px;\n",
              "      padding: 0 0 0 0;\n",
              "      width: 32px;\n",
              "    }\n",
              "\n",
              "    .colab-df-convert:hover {\n",
              "      background-color: #E2EBFA;\n",
              "      box-shadow: 0px 1px 2px rgba(60, 64, 67, 0.3), 0px 1px 3px 1px rgba(60, 64, 67, 0.15);\n",
              "      fill: #174EA6;\n",
              "    }\n",
              "\n",
              "    [theme=dark] .colab-df-convert {\n",
              "      background-color: #3B4455;\n",
              "      fill: #D2E3FC;\n",
              "    }\n",
              "\n",
              "    [theme=dark] .colab-df-convert:hover {\n",
              "      background-color: #434B5C;\n",
              "      box-shadow: 0px 1px 3px 1px rgba(0, 0, 0, 0.15);\n",
              "      filter: drop-shadow(0px 1px 2px rgba(0, 0, 0, 0.3));\n",
              "      fill: #FFFFFF;\n",
              "    }\n",
              "  </style>\n",
              "\n",
              "      <script>\n",
              "        const buttonEl =\n",
              "          document.querySelector('#df-4d5e3f62-e5e6-45d5-b3a1-14aae1510cde button.colab-df-convert');\n",
              "        buttonEl.style.display =\n",
              "          google.colab.kernel.accessAllowed ? 'block' : 'none';\n",
              "\n",
              "        async function convertToInteractive(key) {\n",
              "          const element = document.querySelector('#df-4d5e3f62-e5e6-45d5-b3a1-14aae1510cde');\n",
              "          const dataTable =\n",
              "            await google.colab.kernel.invokeFunction('convertToInteractive',\n",
              "                                                     [key], {});\n",
              "          if (!dataTable) return;\n",
              "\n",
              "          const docLinkHtml = 'Like what you see? Visit the ' +\n",
              "            '<a target=\"_blank\" href=https://colab.research.google.com/notebooks/data_table.ipynb>data table notebook</a>'\n",
              "            + ' to learn more about interactive tables.';\n",
              "          element.innerHTML = '';\n",
              "          dataTable['output_type'] = 'display_data';\n",
              "          await google.colab.output.renderOutput(dataTable, element);\n",
              "          const docLink = document.createElement('div');\n",
              "          docLink.innerHTML = docLinkHtml;\n",
              "          element.appendChild(docLink);\n",
              "        }\n",
              "      </script>\n",
              "    </div>\n",
              "  </div>\n",
              "  "
            ]
          },
          "metadata": {},
          "execution_count": 9
        }
      ],
      "source": [
        "col_meaning_df"
      ]
    },
    {
      "cell_type": "markdown",
      "metadata": {
        "id": "tKaNSrkFzYX-"
      },
      "source": [
        "### What is the datatype of columns?"
      ]
    },
    {
      "cell_type": "code",
      "execution_count": 10,
      "metadata": {
        "deletable": false,
        "nbgrader": {
          "cell_type": "code",
          "checksum": "2ecb5b8df41e1b29c852e2e5dd13b893",
          "grade": false,
          "grade_id": "cell-206c19691b1a6c05",
          "locked": false,
          "schema_version": 3,
          "solution": true,
          "task": false
        },
        "id": "A5AefRYrzYX-",
        "outputId": "5bb17785-1476-4b4e-c1dc-9502aaa7b171",
        "colab": {
          "base_uri": "https://localhost:8080/"
        }
      },
      "outputs": [
        {
          "output_type": "execute_result",
          "data": {
            "text/plain": [
              "MainBranch                       object\n",
              "Hobbyist                         object\n",
              "Age                             float64\n",
              "ConvertedComp                   float64\n",
              "Country                          object\n",
              "DevType                          object\n",
              "EdLevel                          object\n",
              "Employment                       object\n",
              "Ethnicity                        object\n",
              "Gender                           object\n",
              "JobFactors                       object\n",
              "JobSat                           object\n",
              "LanguageDesireNextYear           object\n",
              "LanguageWorkedWith               object\n",
              "MiscTechDesireNextYear           object\n",
              "MiscTechWorkedWith               object\n",
              "NEWCollabToolsDesireNextYear     object\n",
              "NEWCollabToolsWorkedWith         object\n",
              "NEWEdImpt                        object\n",
              "NEWLearn                         object\n",
              "NEWOvertime                      object\n",
              "NEWStuck                         object\n",
              "OpSys                            object\n",
              "PlatformDesireNextYear           object\n",
              "PlatformWorkedWith               object\n",
              "WorkWeekHrs                     float64\n",
              "YearsCode                        object\n",
              "YearsCodePro                     object\n",
              "dtype: object"
            ]
          },
          "metadata": {},
          "execution_count": 10
        }
      ],
      "source": [
        "dtypes= survey_df.dtypes\n",
        "dtypes"
      ]
    },
    {
      "cell_type": "markdown",
      "metadata": {
        "id": "sN773JxrzYX_"
      },
      "source": [
        "As we can see, the column `YearsCode` và `YearsCodePro` should  be `int64` datatype. Let's explore what values it has"
      ]
    },
    {
      "cell_type": "code",
      "execution_count": 11,
      "metadata": {
        "id": "1hFMvaC7zYYA",
        "outputId": "216a6432-4476-4c1d-b35f-2e3565bf0d45",
        "colab": {
          "base_uri": "https://localhost:8080/"
        }
      },
      "outputs": [
        {
          "output_type": "execute_result",
          "data": {
            "text/plain": [
              "array(['36', '7', '4', '15', '6', '17', '8', '10', '35', '5', '37', '19',\n",
              "       '9', '22', '30', '23', '20', '2', 'Less than 1 year', '3', '13',\n",
              "       '25', '16', '43', '11', '38', '33', nan, '24', '21', '12', '40',\n",
              "       '27', '50', '46', '14', '18', '28', '32', '44', '26', '42', '31',\n",
              "       '34', '29', '1', '39', '41', '45', 'More than 50 years', '47',\n",
              "       '49', '48'], dtype=object)"
            ]
          },
          "metadata": {},
          "execution_count": 11
        }
      ],
      "source": [
        "survey_df['YearsCode'].unique()"
      ]
    },
    {
      "cell_type": "code",
      "execution_count": 12,
      "metadata": {
        "id": "lKeG1v_1zYYA",
        "outputId": "4b6c676e-d6c3-41c3-e731-e686d97e8f2a",
        "colab": {
          "base_uri": "https://localhost:8080/"
        }
      },
      "outputs": [
        {
          "output_type": "execute_result",
          "data": {
            "text/plain": [
              "array(['27', '4', nan, '8', '13', '2', '7', '20', '1', '23', '3', '12',\n",
              "       '17', '18', '10', '14', '29', '6', '28', '9', '15', '11', '16',\n",
              "       '25', 'Less than 1 year', '5', '21', '19', '35', '24', '32', '22',\n",
              "       '30', '38', '26', '40', '33', '31', 'More than 50 years', '34',\n",
              "       '36', '39', '37', '41', '45', '47', '42', '46', '50', '43', '44',\n",
              "       '48', '49'], dtype=object)"
            ]
          },
          "metadata": {},
          "execution_count": 12
        }
      ],
      "source": [
        "survey_df['YearsCodePro'].unique()"
      ]
    },
    {
      "cell_type": "markdown",
      "metadata": {
        "id": "-QYzVU52zYYA"
      },
      "source": [
        "Let's mapping the data values into integer for easy compute some stats like min, max, median, and so on."
      ]
    },
    {
      "cell_type": "markdown",
      "metadata": {
        "id": "F3QFBsQhzYYA"
      },
      "source": [
        "---"
      ]
    },
    {
      "cell_type": "markdown",
      "metadata": {
        "id": "kvxUvWgRzYYA"
      },
      "source": [
        "## Preprocess data I"
      ]
    },
    {
      "cell_type": "markdown",
      "metadata": {
        "id": "7PWpFXYyzYYA"
      },
      "source": [
        "We will map the column \"YearsCode\" and \"YearsCodePro\" into `float64`, with 2 values: \"Less than 1 year\" $\\to$ 0, \"More than 50 years\" $\\to$ 51."
      ]
    },
    {
      "cell_type": "code",
      "execution_count": 13,
      "metadata": {
        "deletable": false,
        "nbgrader": {
          "cell_type": "code",
          "checksum": "b12c49ae100fb58e51939537b8f7af48",
          "grade": false,
          "grade_id": "cell-cfc7d3af0fb5edec",
          "locked": false,
          "schema_version": 3,
          "solution": true,
          "task": false
        },
        "id": "wcyAety1zYYA",
        "outputId": "b72a35d8-843d-439d-ea4d-7812e1b19abe",
        "colab": {
          "base_uri": "https://localhost:8080/"
        }
      },
      "outputs": [
        {
          "output_type": "execute_result",
          "data": {
            "text/plain": [
              "MainBranch                       object\n",
              "Hobbyist                         object\n",
              "Age                             float64\n",
              "ConvertedComp                   float64\n",
              "Country                          object\n",
              "DevType                          object\n",
              "EdLevel                          object\n",
              "Employment                       object\n",
              "Ethnicity                        object\n",
              "Gender                           object\n",
              "JobFactors                       object\n",
              "JobSat                           object\n",
              "LanguageDesireNextYear           object\n",
              "LanguageWorkedWith               object\n",
              "MiscTechDesireNextYear           object\n",
              "MiscTechWorkedWith               object\n",
              "NEWCollabToolsDesireNextYear     object\n",
              "NEWCollabToolsWorkedWith         object\n",
              "NEWEdImpt                        object\n",
              "NEWLearn                         object\n",
              "NEWOvertime                      object\n",
              "NEWStuck                         object\n",
              "OpSys                            object\n",
              "PlatformDesireNextYear           object\n",
              "PlatformWorkedWith               object\n",
              "WorkWeekHrs                     float64\n",
              "YearsCode                       float64\n",
              "YearsCodePro                    float64\n",
              "dtype: object"
            ]
          },
          "metadata": {},
          "execution_count": 13
        }
      ],
      "source": [
        "survey_df.replace({\"YearsCode\": {\"Less than 1 year\": 0, \"More than 50 years\": 51},\"YearsCodePro\": {\"Less than 1 year\": 0, \"More than 50 years\": 51}}, inplace=True)\n",
        "survey_df = survey_df.astype({'YearsCode':'float', 'YearsCodePro':'float'})\n",
        "survey_df.dtypes"
      ]
    },
    {
      "cell_type": "markdown",
      "metadata": {
        "id": "Wzy91SKazYYC"
      },
      "source": [
        "---"
      ]
    },
    {
      "cell_type": "markdown",
      "metadata": {
        "id": "yhYPcT7EzYYC"
      },
      "source": [
        "## Explore data II"
      ]
    },
    {
      "cell_type": "markdown",
      "metadata": {
        "id": "u2UcX9n7zYYC"
      },
      "source": [
        "### Data distribution of numerical column"
      ]
    },
    {
      "cell_type": "markdown",
      "metadata": {
        "id": "VNoTH2PazYYC"
      },
      "source": [
        "For each numerical column, we compute some statistics below:\n",
        "- % missing data.\n",
        "- The minimum value\n",
        "- The lower quartile\n",
        "- The median\n",
        "- The upper quartile\n",
        "- The maximum value\n",
        "\n",
        "We save the results into DataFrame `nume_col_info_df` including: \n",
        "- Name of column.\n",
        "- Values of rows: \"missing_percentage\", \"min\", \"lower_quartile\", \"median\", \"upper_quartile\", \"max\"."
      ]
    },
    {
      "cell_type": "code",
      "execution_count": 14,
      "metadata": {
        "deletable": false,
        "nbgrader": {
          "cell_type": "code",
          "checksum": "442122ad4ec86e8b7f1a9c4ecca1f6e7",
          "grade": false,
          "grade_id": "cell-d1503f01712c873a",
          "locked": false,
          "schema_version": 3,
          "solution": true,
          "task": false
        },
        "id": "kzQ2Cyv6zYYC",
        "outputId": "85bd6e95-2e49-403b-9cd3-83273bbcdb70",
        "colab": {
          "base_uri": "https://localhost:8080/",
          "height": 237
        }
      },
      "outputs": [
        {
          "output_type": "execute_result",
          "data": {
            "text/plain": [
              "                      Age  ConvertedComp  WorkWeekHrs  YearsCode  YearsCodePro\n",
              "missing_percentage   29.5           46.1         36.2       10.5          28.1\n",
              "min                   1.0            0.0          1.0        0.0           0.0\n",
              "lower_quartile       24.0        24648.0         40.0        6.0           3.0\n",
              "median               29.0        54049.0         40.0       10.0           6.0\n",
              "upper_quartile       35.0        95000.0         44.0       17.0          12.0\n",
              "max                 279.0      2000000.0        475.0       51.0          51.0"
            ],
            "text/html": [
              "\n",
              "  <div id=\"df-15dca7b5-7eb4-4315-a541-fa7fa57dc778\">\n",
              "    <div class=\"colab-df-container\">\n",
              "      <div>\n",
              "<style scoped>\n",
              "    .dataframe tbody tr th:only-of-type {\n",
              "        vertical-align: middle;\n",
              "    }\n",
              "\n",
              "    .dataframe tbody tr th {\n",
              "        vertical-align: top;\n",
              "    }\n",
              "\n",
              "    .dataframe thead th {\n",
              "        text-align: right;\n",
              "    }\n",
              "</style>\n",
              "<table border=\"1\" class=\"dataframe\">\n",
              "  <thead>\n",
              "    <tr style=\"text-align: right;\">\n",
              "      <th></th>\n",
              "      <th>Age</th>\n",
              "      <th>ConvertedComp</th>\n",
              "      <th>WorkWeekHrs</th>\n",
              "      <th>YearsCode</th>\n",
              "      <th>YearsCodePro</th>\n",
              "    </tr>\n",
              "  </thead>\n",
              "  <tbody>\n",
              "    <tr>\n",
              "      <th>missing_percentage</th>\n",
              "      <td>29.5</td>\n",
              "      <td>46.1</td>\n",
              "      <td>36.2</td>\n",
              "      <td>10.5</td>\n",
              "      <td>28.1</td>\n",
              "    </tr>\n",
              "    <tr>\n",
              "      <th>min</th>\n",
              "      <td>1.0</td>\n",
              "      <td>0.0</td>\n",
              "      <td>1.0</td>\n",
              "      <td>0.0</td>\n",
              "      <td>0.0</td>\n",
              "    </tr>\n",
              "    <tr>\n",
              "      <th>lower_quartile</th>\n",
              "      <td>24.0</td>\n",
              "      <td>24648.0</td>\n",
              "      <td>40.0</td>\n",
              "      <td>6.0</td>\n",
              "      <td>3.0</td>\n",
              "    </tr>\n",
              "    <tr>\n",
              "      <th>median</th>\n",
              "      <td>29.0</td>\n",
              "      <td>54049.0</td>\n",
              "      <td>40.0</td>\n",
              "      <td>10.0</td>\n",
              "      <td>6.0</td>\n",
              "    </tr>\n",
              "    <tr>\n",
              "      <th>upper_quartile</th>\n",
              "      <td>35.0</td>\n",
              "      <td>95000.0</td>\n",
              "      <td>44.0</td>\n",
              "      <td>17.0</td>\n",
              "      <td>12.0</td>\n",
              "    </tr>\n",
              "    <tr>\n",
              "      <th>max</th>\n",
              "      <td>279.0</td>\n",
              "      <td>2000000.0</td>\n",
              "      <td>475.0</td>\n",
              "      <td>51.0</td>\n",
              "      <td>51.0</td>\n",
              "    </tr>\n",
              "  </tbody>\n",
              "</table>\n",
              "</div>\n",
              "      <button class=\"colab-df-convert\" onclick=\"convertToInteractive('df-15dca7b5-7eb4-4315-a541-fa7fa57dc778')\"\n",
              "              title=\"Convert this dataframe to an interactive table.\"\n",
              "              style=\"display:none;\">\n",
              "        \n",
              "  <svg xmlns=\"http://www.w3.org/2000/svg\" height=\"24px\"viewBox=\"0 0 24 24\"\n",
              "       width=\"24px\">\n",
              "    <path d=\"M0 0h24v24H0V0z\" fill=\"none\"/>\n",
              "    <path d=\"M18.56 5.44l.94 2.06.94-2.06 2.06-.94-2.06-.94-.94-2.06-.94 2.06-2.06.94zm-11 1L8.5 8.5l.94-2.06 2.06-.94-2.06-.94L8.5 2.5l-.94 2.06-2.06.94zm10 10l.94 2.06.94-2.06 2.06-.94-2.06-.94-.94-2.06-.94 2.06-2.06.94z\"/><path d=\"M17.41 7.96l-1.37-1.37c-.4-.4-.92-.59-1.43-.59-.52 0-1.04.2-1.43.59L10.3 9.45l-7.72 7.72c-.78.78-.78 2.05 0 2.83L4 21.41c.39.39.9.59 1.41.59.51 0 1.02-.2 1.41-.59l7.78-7.78 2.81-2.81c.8-.78.8-2.07 0-2.86zM5.41 20L4 18.59l7.72-7.72 1.47 1.35L5.41 20z\"/>\n",
              "  </svg>\n",
              "      </button>\n",
              "      \n",
              "  <style>\n",
              "    .colab-df-container {\n",
              "      display:flex;\n",
              "      flex-wrap:wrap;\n",
              "      gap: 12px;\n",
              "    }\n",
              "\n",
              "    .colab-df-convert {\n",
              "      background-color: #E8F0FE;\n",
              "      border: none;\n",
              "      border-radius: 50%;\n",
              "      cursor: pointer;\n",
              "      display: none;\n",
              "      fill: #1967D2;\n",
              "      height: 32px;\n",
              "      padding: 0 0 0 0;\n",
              "      width: 32px;\n",
              "    }\n",
              "\n",
              "    .colab-df-convert:hover {\n",
              "      background-color: #E2EBFA;\n",
              "      box-shadow: 0px 1px 2px rgba(60, 64, 67, 0.3), 0px 1px 3px 1px rgba(60, 64, 67, 0.15);\n",
              "      fill: #174EA6;\n",
              "    }\n",
              "\n",
              "    [theme=dark] .colab-df-convert {\n",
              "      background-color: #3B4455;\n",
              "      fill: #D2E3FC;\n",
              "    }\n",
              "\n",
              "    [theme=dark] .colab-df-convert:hover {\n",
              "      background-color: #434B5C;\n",
              "      box-shadow: 0px 1px 3px 1px rgba(0, 0, 0, 0.15);\n",
              "      filter: drop-shadow(0px 1px 2px rgba(0, 0, 0, 0.3));\n",
              "      fill: #FFFFFF;\n",
              "    }\n",
              "  </style>\n",
              "\n",
              "      <script>\n",
              "        const buttonEl =\n",
              "          document.querySelector('#df-15dca7b5-7eb4-4315-a541-fa7fa57dc778 button.colab-df-convert');\n",
              "        buttonEl.style.display =\n",
              "          google.colab.kernel.accessAllowed ? 'block' : 'none';\n",
              "\n",
              "        async function convertToInteractive(key) {\n",
              "          const element = document.querySelector('#df-15dca7b5-7eb4-4315-a541-fa7fa57dc778');\n",
              "          const dataTable =\n",
              "            await google.colab.kernel.invokeFunction('convertToInteractive',\n",
              "                                                     [key], {});\n",
              "          if (!dataTable) return;\n",
              "\n",
              "          const docLinkHtml = 'Like what you see? Visit the ' +\n",
              "            '<a target=\"_blank\" href=https://colab.research.google.com/notebooks/data_table.ipynb>data table notebook</a>'\n",
              "            + ' to learn more about interactive tables.';\n",
              "          element.innerHTML = '';\n",
              "          dataTable['output_type'] = 'display_data';\n",
              "          await google.colab.output.renderOutput(dataTable, element);\n",
              "          const docLink = document.createElement('div');\n",
              "          docLink.innerHTML = docLinkHtml;\n",
              "          element.appendChild(docLink);\n",
              "        }\n",
              "      </script>\n",
              "    </div>\n",
              "  </div>\n",
              "  "
            ]
          },
          "metadata": {},
          "execution_count": 14
        }
      ],
      "source": [
        "def agg_1(col):\n",
        "    result = []\n",
        "    result.append(col.isna().mean() * 100) # missing percpercentage\n",
        "    result.append(col.min()) # min\n",
        "    result.append(col.quantile(0.25)) # lower quartile\n",
        "    result.append(col.median()) # median\n",
        "    result.append(col.quantile(0.75)) # upper qquartile\n",
        "    result.append(col.max()) # max\n",
        "    return pd.Series(result, index=['missing_percentage', 'min','lower_quartile', 'median', 'upper_quartile', 'max'])\n",
        "    \n",
        "numerical_df = survey_df.select_dtypes(exclude='object')\n",
        "nume_col_info_df = numerical_df.agg(agg_1).round(1)\n",
        "nume_col_info_df"
      ]
    },
    {
      "cell_type": "markdown",
      "metadata": {
        "id": "t7wfdxyKzYYD"
      },
      "source": [
        "**Are there any invalid values in a column?**\n",
        "- \"Age\" column:  \"Age\" < \"YearCode\" or \"Age\" < \"YearCodePro\" then save results into `num_invalid_Age_vals`.\n",
        "- \"WorkWeekHrs\" column: \"WorkWeekHrs\" <= 168 (hours), any values are higher than 168 is an invalid value and we save result into `num_invalid_WorkWeekHrs`.\n",
        "- \"YearsCode\" column: \"YearsCode\" <  \"YearsCodePro\"  or  \"YearCode\" > \"Age\". Then save result into `num_invalid_YearsCode`.\n",
        "- \"YearsCodePro\" column: \"YearsCodePro\" >  \"YearsCode\" or \"YearCode\" >\"Age\". Then save result into `num_invalid_YearsCodePro`."
      ]
    },
    {
      "cell_type": "code",
      "execution_count": 15,
      "metadata": {
        "deletable": false,
        "nbgrader": {
          "cell_type": "code",
          "checksum": "90f9bb6ed444c8392723dd5aca893623",
          "grade": false,
          "grade_id": "cell-59a58bdc5f54bb25",
          "locked": false,
          "schema_version": 3,
          "solution": true,
          "task": false
        },
        "id": "p6tvbmaTzYYD"
      },
      "outputs": [],
      "source": [
        "num_invalid_Age_vals = ((numerical_df['Age'] < numerical_df[\"YearsCode\"]) | (numerical_df['Age'] < numerical_df[\"YearsCodePro\"])).sum()\n",
        "num_invalid_WorkWeekHrs_vals = (numerical_df['WorkWeekHrs'] > 24*7).sum()\n",
        "num_invalid_YearsCode_vals = ((numerical_df['YearsCode'] < numerical_df[\"YearsCodePro\"]) | (numerical_df['YearsCode'] > numerical_df[\"Age\"])).sum()\n",
        "num_invalid_YearsCodePro_vals = ((numerical_df['YearsCodePro'] > numerical_df[\"YearsCode\"]) | (numerical_df['YearsCodePro'] > numerical_df[\"Age\"])).sum()"
      ]
    },
    {
      "cell_type": "code",
      "execution_count": 17,
      "metadata": {
        "deletable": false,
        "editable": false,
        "nbgrader": {
          "cell_type": "code",
          "checksum": "d077cbc3ef8d27ae7380e560cf825ccf",
          "grade": true,
          "grade_id": "cell-386769471c5b4b8f",
          "locked": true,
          "points": 0.5,
          "schema_version": 3,
          "solution": false,
          "task": false
        },
        "id": "T0ABz5QqzYYE",
        "colab": {
          "base_uri": "https://localhost:8080/"
        },
        "outputId": "ac193468-90a6-4ebb-f76d-e1d4bbcc28c4"
      },
      "outputs": [
        {
          "output_type": "stream",
          "name": "stdout",
          "text": [
            "16\n",
            "62\n",
            "499\n",
            "486\n"
          ]
        }
      ],
      "source": [
        "print(num_invalid_Age_vals)\n",
        "print(num_invalid_WorkWeekHrs_vals)\n",
        "print(num_invalid_YearsCode_vals)\n",
        "print(num_invalid_YearsCodePro_vals)"
      ]
    },
    {
      "cell_type": "markdown",
      "metadata": {
        "id": "k9_-8MyNzYYE"
      },
      "source": [
        "---"
      ]
    },
    {
      "cell_type": "markdown",
      "metadata": {
        "id": "xtO5Zh1yzYYE"
      },
      "source": [
        "## Preprocess data II"
      ]
    },
    {
      "cell_type": "markdown",
      "metadata": {
        "id": "FQpP2XttzYYF"
      },
      "source": [
        "We would like to delete all invalid values as mentioned."
      ]
    },
    {
      "cell_type": "code",
      "execution_count": 18,
      "metadata": {
        "deletable": false,
        "nbgrader": {
          "cell_type": "code",
          "checksum": "ce7e1b5a79e5743055a026055a75c175",
          "grade": false,
          "grade_id": "cell-6a6242ef6d2c8c65",
          "locked": false,
          "schema_version": 3,
          "solution": true,
          "task": false
        },
        "id": "NEJUZS74zYYF"
      },
      "outputs": [],
      "source": [
        "survey_df.drop(survey_df[(survey_df.Age < survey_df.YearsCode) | ( survey_df.YearsCode< survey_df.YearsCodePro)| (survey_df.WorkWeekHrs > 24*7)].index,inplace=True)"
      ]
    },
    {
      "cell_type": "markdown",
      "metadata": {
        "id": "nbejBsHKzYYG"
      },
      "source": [
        "---"
      ]
    },
    {
      "cell_type": "markdown",
      "metadata": {
        "id": "uJBDKEWUzYYG"
      },
      "source": [
        "## Explore data III"
      ]
    },
    {
      "cell_type": "markdown",
      "metadata": {
        "id": "a8Y6nGttzYYG"
      },
      "source": [
        "### Data distribution of categorical columns?"
      ]
    },
    {
      "cell_type": "markdown",
      "metadata": {
        "id": "xWTn6zmZzYYG"
      },
      "source": [
        "With the categorical column, we would like to compute:\n",
        "- Missing percentage. \n",
        "- Number of unique values.\n",
        "- Percent of each unique values.\n",
        "\n",
        "We save the result into DataFrame `cate_col_info_df: \n",
        "- Name of column.\n",
        "- Name of each row: \"missing_percentage\", \"num_values\", \"value_percentages\"  \n"
      ]
    },
    {
      "cell_type": "code",
      "execution_count": 19,
      "metadata": {
        "id": "HVOZs6VXzYYG"
      },
      "outputs": [],
      "source": [
        "multichoice_cols = ['DevType', 'Gender', 'JobFactors', \n",
        "                    'LanguageWorkedWith', 'LanguageDesireNextYear', \n",
        "                    'MiscTechWorkedWith', 'MiscTechDesireNextYear', \n",
        "                    'NEWCollabToolsWorkedWith', 'NEWCollabToolsDesireNextYear', \n",
        "                    'PlatformWorkedWith', 'PlatformDesireNextYear', \n",
        "                    'NEWStuck']"
      ]
    },
    {
      "cell_type": "code",
      "execution_count": 20,
      "metadata": {
        "deletable": false,
        "nbgrader": {
          "cell_type": "code",
          "checksum": "84e72c4f9ef336aad46d35d52a8c5ee3",
          "grade": false,
          "grade_id": "cell-c1cfa0a88177079d",
          "locked": false,
          "schema_version": 3,
          "solution": true,
          "task": false
        },
        "id": "CDWGbjnazYYH",
        "outputId": "c50a1e24-5f41-4647-b54c-a61e2ae3ea17",
        "colab": {
          "base_uri": "https://localhost:8080/",
          "height": 398
        }
      },
      "outputs": [
        {
          "output_type": "execute_result",
          "data": {
            "text/plain": [
              "                                                                                                             MainBranch  \\\n",
              "missing_percentage                                                                                                  0.5   \n",
              "num_values                                                                                                            5   \n",
              "value_percentages   {'I am a developer by profession': 73.5, 'I am a student who is learning to code': 12.5, 'I am n...   \n",
              "\n",
              "                                     Hobbyist  \\\n",
              "missing_percentage                        0.1   \n",
              "num_values                                  2   \n",
              "value_percentages   {'Yes': 78.2, 'No': 21.8}   \n",
              "\n",
              "                                                                                                                Country  \\\n",
              "missing_percentage                                                                                                  0.6   \n",
              "num_values                                                                                                          183   \n",
              "value_percentages   {'United States': 19.5, 'India': 13.0, 'United Kingdom': 6.1, 'Germany': 6.1, 'Canada': 3.4, 'Fr...   \n",
              "\n",
              "                                                                                                                DevType  \\\n",
              "missing_percentage                                                                                                 23.6   \n",
              "num_values                                                                                                           23   \n",
              "value_percentages   {'Developer, back-end': 17.4, 'Developer, full-stack': 17.3, 'Developer, front-end': 11.7, 'Deve...   \n",
              "\n",
              "                                                                                                                EdLevel  \\\n",
              "missing_percentage                                                                                                 11.0   \n",
              "num_values                                                                                                            9   \n",
              "value_percentages   {'Bachelor’s degree (B.A., B.S., B.Eng., etc.)': 46.3, 'Master’s degree (M.A., M.S., M.Eng., MBA...   \n",
              "\n",
              "                                                                                                             Employment  \\\n",
              "missing_percentage                                                                                                  0.9   \n",
              "num_values                                                                                                            7   \n",
              "value_percentages   {'Employed full-time': 70.8, 'Student': 12.3, 'Independent contractor, freelancer, or self-emplo...   \n",
              "\n",
              "                                                                                                              Ethnicity  \\\n",
              "missing_percentage                                                                                                 28.6   \n",
              "num_values                                                                                                           10   \n",
              "value_percentages   {'White or of European descent': 63.1, 'South Asian': 9.5, 'Hispanic or Latino/a/x': 7.0, 'Middl...   \n",
              "\n",
              "                                                                                                   Gender  \\\n",
              "missing_percentage                                                                                   21.5   \n",
              "num_values                                                                                              3   \n",
              "value_percentages   {'Man': 90.8, 'Woman': 7.9, 'Non-binary, genderqueer, or gender non-conforming': 1.2}   \n",
              "\n",
              "                                                                                                             JobFactors  \\\n",
              "missing_percentage                                                                                                 23.4   \n",
              "num_values                                                                                                           11   \n",
              "value_percentages   {'Languages, frameworks, and other technologies I’d be working with': 17.5, 'Office environment ...   \n",
              "\n",
              "                                                                                                                 JobSat  \\\n",
              "missing_percentage                                                                                                 30.1   \n",
              "num_values                                                                                                            5   \n",
              "value_percentages   {'Very satisfied': 32.4, 'Slightly satisfied': 30.9, 'Slightly dissatisfied': 15.8, 'Neither sat...   \n",
              "\n",
              "                                                                                                 LanguageDesireNextYear  \\\n",
              "missing_percentage                                                                                                 16.0   \n",
              "num_values                                                                                                           25   \n",
              "value_percentages   {'Python': 11.2, 'JavaScript': 11.0, 'HTML/CSS': 8.7, 'SQL': 8.4, 'TypeScript': 7.2, 'C#': 5.7, ...   \n",
              "\n",
              "                                                                                                     LanguageWorkedWith  \\\n",
              "missing_percentage                                                                                                 11.0   \n",
              "num_values                                                                                                           25   \n",
              "value_percentages   {'JavaScript': 13.5, 'HTML/CSS': 12.6, 'SQL': 10.9, 'Python': 8.8, 'Java': 8.0, 'Bash/Shell/Powe...   \n",
              "\n",
              "                                                                                                 MiscTechDesireNextYear  \\\n",
              "missing_percentage                                                                                                 34.3   \n",
              "num_values                                                                                                           19   \n",
              "value_percentages   {'Node.js': 17.0, 'TensorFlow': 10.1, '.NET Core': 9.6, 'React Native': 8.4, '.NET': 6.9, 'Flutt...   \n",
              "\n",
              "                                                                                                     MiscTechWorkedWith  \\\n",
              "missing_percentage                                                                                                 37.5   \n",
              "num_values                                                                                                           19   \n",
              "value_percentages   {'Node.js': 23.1, '.NET': 15.7, '.NET Core': 12.0, 'Pandas': 7.0, 'TensorFlow': 5.2, 'React Nati...   \n",
              "\n",
              "                                                                                           NEWCollabToolsDesireNextYear  \\\n",
              "missing_percentage                                                                                                 26.6   \n",
              "num_values                                                                                                           11   \n",
              "value_percentages   {'Github': 24.7, 'Slack': 14.1, 'Gitlab': 11.3, 'Google Suite (Docs, Meet, etc)': 10.6, 'Jira': ...   \n",
              "\n",
              "                                                                                               NEWCollabToolsWorkedWith  \\\n",
              "missing_percentage                                                                                                 18.0   \n",
              "num_values                                                                                                           11   \n",
              "value_percentages   {'Github': 22.2, 'Slack': 14.2, 'Jira': 12.8, 'Google Suite (Docs, Meet, etc)': 11.1, 'Gitlab': ...   \n",
              "\n",
              "                                                                                                              NEWEdImpt  \\\n",
              "missing_percentage                                                                                                 25.0   \n",
              "num_values                                                                                                            5   \n",
              "value_percentages   {'Fairly important': 26.2, 'Very important': 24.4, 'Somewhat important': 23.5, 'Not at all impor...   \n",
              "\n",
              "                                                                                                               NEWLearn  \\\n",
              "missing_percentage                                                                                                 12.9   \n",
              "num_values                                                                                                            4   \n",
              "value_percentages   {'Every few months': 37.3, 'Once a year': 36.9, 'Once every few years': 23.7, 'Once a decade': 2.2}   \n",
              "\n",
              "                                                                                                            NEWOvertime  \\\n",
              "missing_percentage                                                                                                 33.1   \n",
              "num_values                                                                                                            5   \n",
              "value_percentages   {'Sometimes: 1-2 days per month but less than weekly': 26.7, 'Often: 1-2 days per week or more':...   \n",
              "\n",
              "                                                                                                               NEWStuck  \\\n",
              "missing_percentage                                                                                                 14.7   \n",
              "num_values                                                                                                            9   \n",
              "value_percentages   {'Visit Stack Overflow': 26.7, 'Do other work and come back later': 16.1, 'Watch help / tutorial...   \n",
              "\n",
              "                                                                                OpSys  \\\n",
              "missing_percentage                                                               12.8   \n",
              "num_values                                                                          4   \n",
              "value_percentages   {'Windows': 48.3, 'Linux-based': 26.6, 'MacOS': 25.1, 'BSD': 0.1}   \n",
              "\n",
              "                                                                                                 PlatformDesireNextYear  \\\n",
              "missing_percentage                                                                                                 21.5   \n",
              "num_values                                                                                                           16   \n",
              "value_percentages   {'Linux': 14.3, 'Docker': 12.2, 'AWS': 9.6, 'Windows': 9.3, 'Android': 7.9, 'Kubernetes': 7.3, '...   \n",
              "\n",
              "                                                                                                     PlatformWorkedWith  \n",
              "missing_percentage                                                                                                 16.5  \n",
              "num_values                                                                                                           16  \n",
              "value_percentages   {'Linux': 16.6, 'Windows': 16.0, 'Docker': 10.6, 'AWS': 8.1, 'Android': 7.9, 'MacOS': 7.2, 'Rasp...  "
            ],
            "text/html": [
              "\n",
              "  <div id=\"df-207e2276-b5ae-4e88-8859-a3305e213e21\">\n",
              "    <div class=\"colab-df-container\">\n",
              "      <div>\n",
              "<style scoped>\n",
              "    .dataframe tbody tr th:only-of-type {\n",
              "        vertical-align: middle;\n",
              "    }\n",
              "\n",
              "    .dataframe tbody tr th {\n",
              "        vertical-align: top;\n",
              "    }\n",
              "\n",
              "    .dataframe thead th {\n",
              "        text-align: right;\n",
              "    }\n",
              "</style>\n",
              "<table border=\"1\" class=\"dataframe\">\n",
              "  <thead>\n",
              "    <tr style=\"text-align: right;\">\n",
              "      <th></th>\n",
              "      <th>MainBranch</th>\n",
              "      <th>Hobbyist</th>\n",
              "      <th>Country</th>\n",
              "      <th>DevType</th>\n",
              "      <th>EdLevel</th>\n",
              "      <th>Employment</th>\n",
              "      <th>Ethnicity</th>\n",
              "      <th>Gender</th>\n",
              "      <th>JobFactors</th>\n",
              "      <th>JobSat</th>\n",
              "      <th>LanguageDesireNextYear</th>\n",
              "      <th>LanguageWorkedWith</th>\n",
              "      <th>MiscTechDesireNextYear</th>\n",
              "      <th>MiscTechWorkedWith</th>\n",
              "      <th>NEWCollabToolsDesireNextYear</th>\n",
              "      <th>NEWCollabToolsWorkedWith</th>\n",
              "      <th>NEWEdImpt</th>\n",
              "      <th>NEWLearn</th>\n",
              "      <th>NEWOvertime</th>\n",
              "      <th>NEWStuck</th>\n",
              "      <th>OpSys</th>\n",
              "      <th>PlatformDesireNextYear</th>\n",
              "      <th>PlatformWorkedWith</th>\n",
              "    </tr>\n",
              "  </thead>\n",
              "  <tbody>\n",
              "    <tr>\n",
              "      <th>missing_percentage</th>\n",
              "      <td>0.5</td>\n",
              "      <td>0.1</td>\n",
              "      <td>0.6</td>\n",
              "      <td>23.6</td>\n",
              "      <td>11.0</td>\n",
              "      <td>0.9</td>\n",
              "      <td>28.6</td>\n",
              "      <td>21.5</td>\n",
              "      <td>23.4</td>\n",
              "      <td>30.1</td>\n",
              "      <td>16.0</td>\n",
              "      <td>11.0</td>\n",
              "      <td>34.3</td>\n",
              "      <td>37.5</td>\n",
              "      <td>26.6</td>\n",
              "      <td>18.0</td>\n",
              "      <td>25.0</td>\n",
              "      <td>12.9</td>\n",
              "      <td>33.1</td>\n",
              "      <td>14.7</td>\n",
              "      <td>12.8</td>\n",
              "      <td>21.5</td>\n",
              "      <td>16.5</td>\n",
              "    </tr>\n",
              "    <tr>\n",
              "      <th>num_values</th>\n",
              "      <td>5</td>\n",
              "      <td>2</td>\n",
              "      <td>183</td>\n",
              "      <td>23</td>\n",
              "      <td>9</td>\n",
              "      <td>7</td>\n",
              "      <td>10</td>\n",
              "      <td>3</td>\n",
              "      <td>11</td>\n",
              "      <td>5</td>\n",
              "      <td>25</td>\n",
              "      <td>25</td>\n",
              "      <td>19</td>\n",
              "      <td>19</td>\n",
              "      <td>11</td>\n",
              "      <td>11</td>\n",
              "      <td>5</td>\n",
              "      <td>4</td>\n",
              "      <td>5</td>\n",
              "      <td>9</td>\n",
              "      <td>4</td>\n",
              "      <td>16</td>\n",
              "      <td>16</td>\n",
              "    </tr>\n",
              "    <tr>\n",
              "      <th>value_percentages</th>\n",
              "      <td>{'I am a developer by profession': 73.5, 'I am a student who is learning to code': 12.5, 'I am n...</td>\n",
              "      <td>{'Yes': 78.2, 'No': 21.8}</td>\n",
              "      <td>{'United States': 19.5, 'India': 13.0, 'United Kingdom': 6.1, 'Germany': 6.1, 'Canada': 3.4, 'Fr...</td>\n",
              "      <td>{'Developer, back-end': 17.4, 'Developer, full-stack': 17.3, 'Developer, front-end': 11.7, 'Deve...</td>\n",
              "      <td>{'Bachelor’s degree (B.A., B.S., B.Eng., etc.)': 46.3, 'Master’s degree (M.A., M.S., M.Eng., MBA...</td>\n",
              "      <td>{'Employed full-time': 70.8, 'Student': 12.3, 'Independent contractor, freelancer, or self-emplo...</td>\n",
              "      <td>{'White or of European descent': 63.1, 'South Asian': 9.5, 'Hispanic or Latino/a/x': 7.0, 'Middl...</td>\n",
              "      <td>{'Man': 90.8, 'Woman': 7.9, 'Non-binary, genderqueer, or gender non-conforming': 1.2}</td>\n",
              "      <td>{'Languages, frameworks, and other technologies I’d be working with': 17.5, 'Office environment ...</td>\n",
              "      <td>{'Very satisfied': 32.4, 'Slightly satisfied': 30.9, 'Slightly dissatisfied': 15.8, 'Neither sat...</td>\n",
              "      <td>{'Python': 11.2, 'JavaScript': 11.0, 'HTML/CSS': 8.7, 'SQL': 8.4, 'TypeScript': 7.2, 'C#': 5.7, ...</td>\n",
              "      <td>{'JavaScript': 13.5, 'HTML/CSS': 12.6, 'SQL': 10.9, 'Python': 8.8, 'Java': 8.0, 'Bash/Shell/Powe...</td>\n",
              "      <td>{'Node.js': 17.0, 'TensorFlow': 10.1, '.NET Core': 9.6, 'React Native': 8.4, '.NET': 6.9, 'Flutt...</td>\n",
              "      <td>{'Node.js': 23.1, '.NET': 15.7, '.NET Core': 12.0, 'Pandas': 7.0, 'TensorFlow': 5.2, 'React Nati...</td>\n",
              "      <td>{'Github': 24.7, 'Slack': 14.1, 'Gitlab': 11.3, 'Google Suite (Docs, Meet, etc)': 10.6, 'Jira': ...</td>\n",
              "      <td>{'Github': 22.2, 'Slack': 14.2, 'Jira': 12.8, 'Google Suite (Docs, Meet, etc)': 11.1, 'Gitlab': ...</td>\n",
              "      <td>{'Fairly important': 26.2, 'Very important': 24.4, 'Somewhat important': 23.5, 'Not at all impor...</td>\n",
              "      <td>{'Every few months': 37.3, 'Once a year': 36.9, 'Once every few years': 23.7, 'Once a decade': 2.2}</td>\n",
              "      <td>{'Sometimes: 1-2 days per month but less than weekly': 26.7, 'Often: 1-2 days per week or more':...</td>\n",
              "      <td>{'Visit Stack Overflow': 26.7, 'Do other work and come back later': 16.1, 'Watch help / tutorial...</td>\n",
              "      <td>{'Windows': 48.3, 'Linux-based': 26.6, 'MacOS': 25.1, 'BSD': 0.1}</td>\n",
              "      <td>{'Linux': 14.3, 'Docker': 12.2, 'AWS': 9.6, 'Windows': 9.3, 'Android': 7.9, 'Kubernetes': 7.3, '...</td>\n",
              "      <td>{'Linux': 16.6, 'Windows': 16.0, 'Docker': 10.6, 'AWS': 8.1, 'Android': 7.9, 'MacOS': 7.2, 'Rasp...</td>\n",
              "    </tr>\n",
              "  </tbody>\n",
              "</table>\n",
              "</div>\n",
              "      <button class=\"colab-df-convert\" onclick=\"convertToInteractive('df-207e2276-b5ae-4e88-8859-a3305e213e21')\"\n",
              "              title=\"Convert this dataframe to an interactive table.\"\n",
              "              style=\"display:none;\">\n",
              "        \n",
              "  <svg xmlns=\"http://www.w3.org/2000/svg\" height=\"24px\"viewBox=\"0 0 24 24\"\n",
              "       width=\"24px\">\n",
              "    <path d=\"M0 0h24v24H0V0z\" fill=\"none\"/>\n",
              "    <path d=\"M18.56 5.44l.94 2.06.94-2.06 2.06-.94-2.06-.94-.94-2.06-.94 2.06-2.06.94zm-11 1L8.5 8.5l.94-2.06 2.06-.94-2.06-.94L8.5 2.5l-.94 2.06-2.06.94zm10 10l.94 2.06.94-2.06 2.06-.94-2.06-.94-.94-2.06-.94 2.06-2.06.94z\"/><path d=\"M17.41 7.96l-1.37-1.37c-.4-.4-.92-.59-1.43-.59-.52 0-1.04.2-1.43.59L10.3 9.45l-7.72 7.72c-.78.78-.78 2.05 0 2.83L4 21.41c.39.39.9.59 1.41.59.51 0 1.02-.2 1.41-.59l7.78-7.78 2.81-2.81c.8-.78.8-2.07 0-2.86zM5.41 20L4 18.59l7.72-7.72 1.47 1.35L5.41 20z\"/>\n",
              "  </svg>\n",
              "      </button>\n",
              "      \n",
              "  <style>\n",
              "    .colab-df-container {\n",
              "      display:flex;\n",
              "      flex-wrap:wrap;\n",
              "      gap: 12px;\n",
              "    }\n",
              "\n",
              "    .colab-df-convert {\n",
              "      background-color: #E8F0FE;\n",
              "      border: none;\n",
              "      border-radius: 50%;\n",
              "      cursor: pointer;\n",
              "      display: none;\n",
              "      fill: #1967D2;\n",
              "      height: 32px;\n",
              "      padding: 0 0 0 0;\n",
              "      width: 32px;\n",
              "    }\n",
              "\n",
              "    .colab-df-convert:hover {\n",
              "      background-color: #E2EBFA;\n",
              "      box-shadow: 0px 1px 2px rgba(60, 64, 67, 0.3), 0px 1px 3px 1px rgba(60, 64, 67, 0.15);\n",
              "      fill: #174EA6;\n",
              "    }\n",
              "\n",
              "    [theme=dark] .colab-df-convert {\n",
              "      background-color: #3B4455;\n",
              "      fill: #D2E3FC;\n",
              "    }\n",
              "\n",
              "    [theme=dark] .colab-df-convert:hover {\n",
              "      background-color: #434B5C;\n",
              "      box-shadow: 0px 1px 3px 1px rgba(0, 0, 0, 0.15);\n",
              "      filter: drop-shadow(0px 1px 2px rgba(0, 0, 0, 0.3));\n",
              "      fill: #FFFFFF;\n",
              "    }\n",
              "  </style>\n",
              "\n",
              "      <script>\n",
              "        const buttonEl =\n",
              "          document.querySelector('#df-207e2276-b5ae-4e88-8859-a3305e213e21 button.colab-df-convert');\n",
              "        buttonEl.style.display =\n",
              "          google.colab.kernel.accessAllowed ? 'block' : 'none';\n",
              "\n",
              "        async function convertToInteractive(key) {\n",
              "          const element = document.querySelector('#df-207e2276-b5ae-4e88-8859-a3305e213e21');\n",
              "          const dataTable =\n",
              "            await google.colab.kernel.invokeFunction('convertToInteractive',\n",
              "                                                     [key], {});\n",
              "          if (!dataTable) return;\n",
              "\n",
              "          const docLinkHtml = 'Like what you see? Visit the ' +\n",
              "            '<a target=\"_blank\" href=https://colab.research.google.com/notebooks/data_table.ipynb>data table notebook</a>'\n",
              "            + ' to learn more about interactive tables.';\n",
              "          element.innerHTML = '';\n",
              "          dataTable['output_type'] = 'display_data';\n",
              "          await google.colab.output.renderOutput(dataTable, element);\n",
              "          const docLink = document.createElement('div');\n",
              "          docLink.innerHTML = docLinkHtml;\n",
              "          element.appendChild(docLink);\n",
              "        }\n",
              "      </script>\n",
              "    </div>\n",
              "  </div>\n",
              "  "
            ]
          },
          "metadata": {},
          "execution_count": 20
        }
      ],
      "source": [
        "pd.set_option('display.max_colwidth', 100) \n",
        "pd.set_option('display.max_columns', None)\n",
        "\n",
        "def num_values(col):\n",
        "    return col.str.split(';').explode().nunique()\n",
        "\n",
        "\n",
        "def value_percentages(col):\n",
        "    data = col.str.split(\";\").explode().value_counts()\n",
        "    ans = data.keys().tolist()\n",
        "    freqs = (data / data.sum() * 100).round(1).tolist()\n",
        "    col_AsDict = dict(zip(ans, freqs))\n",
        "    return col_AsDict\n",
        "\n",
        "def agg_2(col):\n",
        "    result = []\n",
        "    result.append((col.isna().mean() * 100).round(1))   # missing percentage\n",
        "    \n",
        "    num_values = col.str.split(';').explode().nunique()\n",
        "    result.append(num_values) # num_values\n",
        "    \n",
        "    data = col.str.split(\";\").explode().value_counts()\n",
        "    ans = data.keys().tolist()\n",
        "    freqs = (data / data.sum() * 100).round(1).tolist()\n",
        "    value_percentages = dict(zip(ans, freqs))\n",
        "    result.append(value_percentages) # value_percentages\n",
        "    \n",
        "    return pd.Series(result, index=['missing_percentage', 'num_values', 'value_percentages'])\n",
        "\n",
        "object_df = survey_df.select_dtypes(include='object')\n",
        "cate_col_info_df = object_df.agg(agg_2).round(1)\n",
        "cate_col_info_df"
      ]
    },
    {
      "cell_type": "markdown",
      "metadata": {
        "id": "RpC8JcuYzYYI"
      },
      "source": [
        "---"
      ]
    },
    {
      "cell_type": "markdown",
      "metadata": {
        "id": "Ty1K04vGzYYJ"
      },
      "source": [
        "## Ask the questions"
      ]
    },
    {
      "cell_type": "markdown",
      "metadata": {
        "id": "RkWSPuBczYYK"
      },
      "source": [
        "\n",
        "**Question 1:** Which is the top favourite platforms (Windows, Linux, Docker, AWS, ...)? about the second, the third? "
      ]
    },
    {
      "cell_type": "markdown",
      "metadata": {
        "id": "812Kr5WpzYYL"
      },
      "source": [
        "---"
      ]
    },
    {
      "cell_type": "markdown",
      "metadata": {
        "id": "5v6qqPnezYYL"
      },
      "source": [
        "## Preprocess data III"
      ]
    },
    {
      "cell_type": "code",
      "execution_count": 21,
      "metadata": {
        "id": "PQyc_yzczYYL",
        "outputId": "e585e346-51fc-4b59-e3eb-b7046e5b13e1",
        "colab": {
          "base_uri": "https://localhost:8080/"
        }
      },
      "outputs": [
        {
          "output_type": "execute_result",
          "data": {
            "text/plain": [
              "Respondent\n",
              "1                                                               [Windows]\n",
              "2                                                                   [iOS]\n",
              "5                                                [Linux, Windows, Docker]\n",
              "6                                                               [Android]\n",
              "8                                                                      []\n",
              "                                       ...                               \n",
              "62834                                                  [Windows, Arduino]\n",
              "63452                                                           [Windows]\n",
              "63640    [Google Cloud Platform, MacOS, Linux, iOS, AWS, Microsoft Azure]\n",
              "64330                                                               [iOS]\n",
              "65112                             [Linux, Windows, Raspberry Pi, Arduino]\n",
              "Length: 48577, dtype: object"
            ]
          },
          "metadata": {},
          "execution_count": 21
        }
      ],
      "source": [
        "def split_semicolon(col):\n",
        "    return col.str.split(';')  \n",
        "\n",
        "def merge_platforms(col1, col2):\n",
        "    return list(set(col1).intersection(set(col2)))\n",
        "\n",
        "df = object_df[['PlatformWorkedWith','PlatformDesireNextYear']].dropna(how=\"any\")\n",
        "df = df.apply(split_semicolon)\n",
        "data_most_loved_platforms= df.apply(lambda x: merge_platforms(x.PlatformWorkedWith, x.PlatformDesireNextYear), axis=1)\n",
        "data_most_loved_platforms"
      ]
    },
    {
      "cell_type": "markdown",
      "metadata": {
        "id": "sgJpr1E3zYYL"
      },
      "source": [
        "---"
      ]
    },
    {
      "cell_type": "markdown",
      "metadata": {
        "id": "EscqICjyzYYL"
      },
      "source": [
        "## Analyze data"
      ]
    },
    {
      "cell_type": "code",
      "execution_count": 22,
      "metadata": {
        "deletable": false,
        "nbgrader": {
          "cell_type": "code",
          "checksum": "0a9055745bab2ee00733aac0a056b17f",
          "grade": false,
          "grade_id": "cell-6d34c88e2fd46b33",
          "locked": false,
          "schema_version": 3,
          "solution": true,
          "task": false
        },
        "id": "_bMOURd6zYYM",
        "outputId": "157a95b1-2a70-460c-e271-605c162ced20",
        "colab": {
          "base_uri": "https://localhost:8080/"
        }
      },
      "outputs": [
        {
          "output_type": "execute_result",
          "data": {
            "text/plain": [
              "Linux                          20.2\n",
              "Windows                        14.6\n",
              "Docker                         12.3\n",
              "AWS                             8.5\n",
              "MacOS                           7.4\n",
              "Android                         7.1\n",
              "Raspberry Pi                    4.7\n",
              "Microsoft Azure                 4.3\n",
              "Google Cloud Platform           4.1\n",
              "Kubernetes                      3.9\n",
              "iOS                             3.5\n",
              "Arduino                         2.7\n",
              "Heroku                          2.4\n",
              "WordPress                       2.2\n",
              "Slack Apps and Integrations     1.8\n",
              "IBM Cloud or Watson             0.3\n",
              "dtype: float64"
            ]
          },
          "metadata": {},
          "execution_count": 22
        }
      ],
      "source": [
        "data = data_most_loved_platforms.explode().value_counts()\n",
        "ans = data.keys().tolist()\n",
        "freqs = (data / data.sum() * 100).round(1).tolist()\n",
        "\n",
        "most_loved_platforms = pd.Series(data=freqs, index=ans).sort_values(ascending=False)\n",
        "most_loved_platforms"
      ]
    },
    {
      "cell_type": "code",
      "execution_count": 23,
      "metadata": {
        "deletable": false,
        "nbgrader": {
          "cell_type": "code",
          "checksum": "e9113040c23a1b8cbfde861c4efe685f",
          "grade": true,
          "grade_id": "cell-5395c611d6065339",
          "locked": false,
          "points": 0.25,
          "schema_version": 3,
          "solution": true,
          "task": false
        },
        "id": "9tJf8G6_zYYO",
        "outputId": "c6d57588-657d-470e-aae5-4fb1a450e75c",
        "colab": {
          "base_uri": "https://localhost:8080/",
          "height": 280
        }
      },
      "outputs": [
        {
          "output_type": "display_data",
          "data": {
            "text/plain": [
              "<Figure size 432x288 with 1 Axes>"
            ],
            "image/png": "[encoded data removed]"
          },
          "metadata": {
            "needs_background": "light"
          }
        }
      ],
      "source": [
        "most_loved_platforms.plot.barh()\n",
        "plt.xlabel('Tỉ lệ %');"
      ]
    },
    {
      "cell_type": "markdown",
      "metadata": {
        "id": "lgo6k2OmzYYO"
      },
      "source": [
        "---"
      ]
    },
    {
      "cell_type": "markdown",
      "metadata": {
        "id": "nOHYqy2yzYYO"
      },
      "source": [
        "## Ask the questions II"
      ]
    },
    {
      "cell_type": "markdown",
      "metadata": {
        "deletable": false,
        "nbgrader": {
          "cell_type": "markdown",
          "checksum": "8e88fb70d5a2aac41af1566276a95321",
          "grade": true,
          "grade_id": "cell-2e7a92ae99ca7449",
          "locked": false,
          "points": 1.5,
          "schema_version": 3,
          "solution": true,
          "task": false
        },
        "id": "KpxRPJM8zYYP"
      },
      "source": [
        "**Question 2:** Compare the average working hours and salary of people in the different groups based on job satisfaction.\n"
      ]
    },
    {
      "cell_type": "markdown",
      "metadata": {
        "id": "-Y3d_wQ6zYYP"
      },
      "source": [
        "---"
      ]
    },
    {
      "cell_type": "markdown",
      "metadata": {
        "id": "h5XxhjXizYYP"
      },
      "source": [
        "## Preprocess data"
      ]
    },
    {
      "cell_type": "code",
      "execution_count": 24,
      "metadata": {
        "id": "U0FBp1QBzYYQ",
        "outputId": "1e30a638-921e-458f-ca29-a23ea5bebebd",
        "colab": {
          "base_uri": "https://localhost:8080/",
          "height": 237
        }
      },
      "outputs": [
        {
          "output_type": "execute_result",
          "data": {
            "text/plain": [
              "            ConvertedComp  WorkWeekHrs                 JobSat\n",
              "Respondent                                                   \n",
              "8                116000.0         39.0  Slightly dissatisfied\n",
              "10                32315.0         36.0         Very satisfied\n",
              "11                40070.0         40.0  Slightly dissatisfied\n",
              "12                14268.0         40.0      Very dissatisfied\n",
              "13                38916.0         36.0         Very satisfied"
            ],
            "text/html": [
              "\n",
              "  <div id=\"df-cbbe223c-64cd-4815-9551-d096e66f81c4\">\n",
              "    <div class=\"colab-df-container\">\n",
              "      <div>\n",
              "<style scoped>\n",
              "    .dataframe tbody tr th:only-of-type {\n",
              "        vertical-align: middle;\n",
              "    }\n",
              "\n",
              "    .dataframe tbody tr th {\n",
              "        vertical-align: top;\n",
              "    }\n",
              "\n",
              "    .dataframe thead th {\n",
              "        text-align: right;\n",
              "    }\n",
              "</style>\n",
              "<table border=\"1\" class=\"dataframe\">\n",
              "  <thead>\n",
              "    <tr style=\"text-align: right;\">\n",
              "      <th></th>\n",
              "      <th>ConvertedComp</th>\n",
              "      <th>WorkWeekHrs</th>\n",
              "      <th>JobSat</th>\n",
              "    </tr>\n",
              "    <tr>\n",
              "      <th>Respondent</th>\n",
              "      <th></th>\n",
              "      <th></th>\n",
              "      <th></th>\n",
              "    </tr>\n",
              "  </thead>\n",
              "  <tbody>\n",
              "    <tr>\n",
              "      <th>8</th>\n",
              "      <td>116000.0</td>\n",
              "      <td>39.0</td>\n",
              "      <td>Slightly dissatisfied</td>\n",
              "    </tr>\n",
              "    <tr>\n",
              "      <th>10</th>\n",
              "      <td>32315.0</td>\n",
              "      <td>36.0</td>\n",
              "      <td>Very satisfied</td>\n",
              "    </tr>\n",
              "    <tr>\n",
              "      <th>11</th>\n",
              "      <td>40070.0</td>\n",
              "      <td>40.0</td>\n",
              "      <td>Slightly dissatisfied</td>\n",
              "    </tr>\n",
              "    <tr>\n",
              "      <th>12</th>\n",
              "      <td>14268.0</td>\n",
              "      <td>40.0</td>\n",
              "      <td>Very dissatisfied</td>\n",
              "    </tr>\n",
              "    <tr>\n",
              "      <th>13</th>\n",
              "      <td>38916.0</td>\n",
              "      <td>36.0</td>\n",
              "      <td>Very satisfied</td>\n",
              "    </tr>\n",
              "  </tbody>\n",
              "</table>\n",
              "</div>\n",
              "      <button class=\"colab-df-convert\" onclick=\"convertToInteractive('df-cbbe223c-64cd-4815-9551-d096e66f81c4')\"\n",
              "              title=\"Convert this dataframe to an interactive table.\"\n",
              "              style=\"display:none;\">\n",
              "        \n",
              "  <svg xmlns=\"http://www.w3.org/2000/svg\" height=\"24px\"viewBox=\"0 0 24 24\"\n",
              "       width=\"24px\">\n",
              "    <path d=\"M0 0h24v24H0V0z\" fill=\"none\"/>\n",
              "    <path d=\"M18.56 5.44l.94 2.06.94-2.06 2.06-.94-2.06-.94-.94-2.06-.94 2.06-2.06.94zm-11 1L8.5 8.5l.94-2.06 2.06-.94-2.06-.94L8.5 2.5l-.94 2.06-2.06.94zm10 10l.94 2.06.94-2.06 2.06-.94-2.06-.94-.94-2.06-.94 2.06-2.06.94z\"/><path d=\"M17.41 7.96l-1.37-1.37c-.4-.4-.92-.59-1.43-.59-.52 0-1.04.2-1.43.59L10.3 9.45l-7.72 7.72c-.78.78-.78 2.05 0 2.83L4 21.41c.39.39.9.59 1.41.59.51 0 1.02-.2 1.41-.59l7.78-7.78 2.81-2.81c.8-.78.8-2.07 0-2.86zM5.41 20L4 18.59l7.72-7.72 1.47 1.35L5.41 20z\"/>\n",
              "  </svg>\n",
              "      </button>\n",
              "      \n",
              "  <style>\n",
              "    .colab-df-container {\n",
              "      display:flex;\n",
              "      flex-wrap:wrap;\n",
              "      gap: 12px;\n",
              "    }\n",
              "\n",
              "    .colab-df-convert {\n",
              "      background-color: #E8F0FE;\n",
              "      border: none;\n",
              "      border-radius: 50%;\n",
              "      cursor: pointer;\n",
              "      display: none;\n",
              "      fill: #1967D2;\n",
              "      height: 32px;\n",
              "      padding: 0 0 0 0;\n",
              "      width: 32px;\n",
              "    }\n",
              "\n",
              "    .colab-df-convert:hover {\n",
              "      background-color: #E2EBFA;\n",
              "      box-shadow: 0px 1px 2px rgba(60, 64, 67, 0.3), 0px 1px 3px 1px rgba(60, 64, 67, 0.15);\n",
              "      fill: #174EA6;\n",
              "    }\n",
              "\n",
              "    [theme=dark] .colab-df-convert {\n",
              "      background-color: #3B4455;\n",
              "      fill: #D2E3FC;\n",
              "    }\n",
              "\n",
              "    [theme=dark] .colab-df-convert:hover {\n",
              "      background-color: #434B5C;\n",
              "      box-shadow: 0px 1px 3px 1px rgba(0, 0, 0, 0.15);\n",
              "      filter: drop-shadow(0px 1px 2px rgba(0, 0, 0, 0.3));\n",
              "      fill: #FFFFFF;\n",
              "    }\n",
              "  </style>\n",
              "\n",
              "      <script>\n",
              "        const buttonEl =\n",
              "          document.querySelector('#df-cbbe223c-64cd-4815-9551-d096e66f81c4 button.colab-df-convert');\n",
              "        buttonEl.style.display =\n",
              "          google.colab.kernel.accessAllowed ? 'block' : 'none';\n",
              "\n",
              "        async function convertToInteractive(key) {\n",
              "          const element = document.querySelector('#df-cbbe223c-64cd-4815-9551-d096e66f81c4');\n",
              "          const dataTable =\n",
              "            await google.colab.kernel.invokeFunction('convertToInteractive',\n",
              "                                                     [key], {});\n",
              "          if (!dataTable) return;\n",
              "\n",
              "          const docLinkHtml = 'Like what you see? Visit the ' +\n",
              "            '<a target=\"_blank\" href=https://colab.research.google.com/notebooks/data_table.ipynb>data table notebook</a>'\n",
              "            + ' to learn more about interactive tables.';\n",
              "          element.innerHTML = '';\n",
              "          dataTable['output_type'] = 'display_data';\n",
              "          await google.colab.output.renderOutput(dataTable, element);\n",
              "          const docLink = document.createElement('div');\n",
              "          docLink.innerHTML = docLinkHtml;\n",
              "          element.appendChild(docLink);\n",
              "        }\n",
              "      </script>\n",
              "    </div>\n",
              "  </div>\n",
              "  "
            ]
          },
          "metadata": {},
          "execution_count": 24
        }
      ],
      "source": [
        "data_range = survey_df[['ConvertedComp', 'WorkWeekHrs', 'JobSat']].dropna(how='any')\n",
        "data_range.head(5)"
      ]
    },
    {
      "cell_type": "markdown",
      "metadata": {
        "id": "vKXv8dQFzYYR"
      },
      "source": [
        "---"
      ]
    },
    {
      "cell_type": "markdown",
      "metadata": {
        "id": "hjrIFJ0-zYYS"
      },
      "source": [
        "## Analyze data"
      ]
    },
    {
      "cell_type": "code",
      "execution_count": 25,
      "metadata": {
        "deletable": false,
        "nbgrader": {
          "cell_type": "code",
          "checksum": "57f44ba4e568b05148da80fc7161fc97",
          "grade": true,
          "grade_id": "cell-83e11892184cf811",
          "locked": false,
          "points": 2,
          "schema_version": 3,
          "solution": true,
          "task": false
        },
        "id": "pAds1RQGzYYS",
        "outputId": "f74f85bd-b3ac-493c-8706-284c8d7b6977",
        "colab": {
          "base_uri": "https://localhost:8080/",
          "height": 237
        }
      },
      "outputs": [
        {
          "output_type": "execute_result",
          "data": {
            "text/plain": [
              "                                    ConvertedComp  WorkWeekHrs\n",
              "JobSat                                                        \n",
              "Neither satisfied nor dissatisfied        88971.8         39.7\n",
              "Slightly dissatisfied                     95506.8         40.0\n",
              "Slightly satisfied                        98667.7         40.1\n",
              "Very dissatisfied                         95176.5         40.4\n",
              "Very satisfied                           119242.6         40.5"
            ],
            "text/html": [
              "\n",
              "  <div id=\"df-db32a598-3329-4af0-8dc4-d5814c553851\">\n",
              "    <div class=\"colab-df-container\">\n",
              "      <div>\n",
              "<style scoped>\n",
              "    .dataframe tbody tr th:only-of-type {\n",
              "        vertical-align: middle;\n",
              "    }\n",
              "\n",
              "    .dataframe tbody tr th {\n",
              "        vertical-align: top;\n",
              "    }\n",
              "\n",
              "    .dataframe thead th {\n",
              "        text-align: right;\n",
              "    }\n",
              "</style>\n",
              "<table border=\"1\" class=\"dataframe\">\n",
              "  <thead>\n",
              "    <tr style=\"text-align: right;\">\n",
              "      <th></th>\n",
              "      <th>ConvertedComp</th>\n",
              "      <th>WorkWeekHrs</th>\n",
              "    </tr>\n",
              "    <tr>\n",
              "      <th>JobSat</th>\n",
              "      <th></th>\n",
              "      <th></th>\n",
              "    </tr>\n",
              "  </thead>\n",
              "  <tbody>\n",
              "    <tr>\n",
              "      <th>Neither satisfied nor dissatisfied</th>\n",
              "      <td>88971.8</td>\n",
              "      <td>39.7</td>\n",
              "    </tr>\n",
              "    <tr>\n",
              "      <th>Slightly dissatisfied</th>\n",
              "      <td>95506.8</td>\n",
              "      <td>40.0</td>\n",
              "    </tr>\n",
              "    <tr>\n",
              "      <th>Slightly satisfied</th>\n",
              "      <td>98667.7</td>\n",
              "      <td>40.1</td>\n",
              "    </tr>\n",
              "    <tr>\n",
              "      <th>Very dissatisfied</th>\n",
              "      <td>95176.5</td>\n",
              "      <td>40.4</td>\n",
              "    </tr>\n",
              "    <tr>\n",
              "      <th>Very satisfied</th>\n",
              "      <td>119242.6</td>\n",
              "      <td>40.5</td>\n",
              "    </tr>\n",
              "  </tbody>\n",
              "</table>\n",
              "</div>\n",
              "      <button class=\"colab-df-convert\" onclick=\"convertToInteractive('df-db32a598-3329-4af0-8dc4-d5814c553851')\"\n",
              "              title=\"Convert this dataframe to an interactive table.\"\n",
              "              style=\"display:none;\">\n",
              "        \n",
              "  <svg xmlns=\"http://www.w3.org/2000/svg\" height=\"24px\"viewBox=\"0 0 24 24\"\n",
              "       width=\"24px\">\n",
              "    <path d=\"M0 0h24v24H0V0z\" fill=\"none\"/>\n",
              "    <path d=\"M18.56 5.44l.94 2.06.94-2.06 2.06-.94-2.06-.94-.94-2.06-.94 2.06-2.06.94zm-11 1L8.5 8.5l.94-2.06 2.06-.94-2.06-.94L8.5 2.5l-.94 2.06-2.06.94zm10 10l.94 2.06.94-2.06 2.06-.94-2.06-.94-.94-2.06-.94 2.06-2.06.94z\"/><path d=\"M17.41 7.96l-1.37-1.37c-.4-.4-.92-.59-1.43-.59-.52 0-1.04.2-1.43.59L10.3 9.45l-7.72 7.72c-.78.78-.78 2.05 0 2.83L4 21.41c.39.39.9.59 1.41.59.51 0 1.02-.2 1.41-.59l7.78-7.78 2.81-2.81c.8-.78.8-2.07 0-2.86zM5.41 20L4 18.59l7.72-7.72 1.47 1.35L5.41 20z\"/>\n",
              "  </svg>\n",
              "      </button>\n",
              "      \n",
              "  <style>\n",
              "    .colab-df-container {\n",
              "      display:flex;\n",
              "      flex-wrap:wrap;\n",
              "      gap: 12px;\n",
              "    }\n",
              "\n",
              "    .colab-df-convert {\n",
              "      background-color: #E8F0FE;\n",
              "      border: none;\n",
              "      border-radius: 50%;\n",
              "      cursor: pointer;\n",
              "      display: none;\n",
              "      fill: #1967D2;\n",
              "      height: 32px;\n",
              "      padding: 0 0 0 0;\n",
              "      width: 32px;\n",
              "    }\n",
              "\n",
              "    .colab-df-convert:hover {\n",
              "      background-color: #E2EBFA;\n",
              "      box-shadow: 0px 1px 2px rgba(60, 64, 67, 0.3), 0px 1px 3px 1px rgba(60, 64, 67, 0.15);\n",
              "      fill: #174EA6;\n",
              "    }\n",
              "\n",
              "    [theme=dark] .colab-df-convert {\n",
              "      background-color: #3B4455;\n",
              "      fill: #D2E3FC;\n",
              "    }\n",
              "\n",
              "    [theme=dark] .colab-df-convert:hover {\n",
              "      background-color: #434B5C;\n",
              "      box-shadow: 0px 1px 3px 1px rgba(0, 0, 0, 0.15);\n",
              "      filter: drop-shadow(0px 1px 2px rgba(0, 0, 0, 0.3));\n",
              "      fill: #FFFFFF;\n",
              "    }\n",
              "  </style>\n",
              "\n",
              "      <script>\n",
              "        const buttonEl =\n",
              "          document.querySelector('#df-db32a598-3329-4af0-8dc4-d5814c553851 button.colab-df-convert');\n",
              "        buttonEl.style.display =\n",
              "          google.colab.kernel.accessAllowed ? 'block' : 'none';\n",
              "\n",
              "        async function convertToInteractive(key) {\n",
              "          const element = document.querySelector('#df-db32a598-3329-4af0-8dc4-d5814c553851');\n",
              "          const dataTable =\n",
              "            await google.colab.kernel.invokeFunction('convertToInteractive',\n",
              "                                                     [key], {});\n",
              "          if (!dataTable) return;\n",
              "\n",
              "          const docLinkHtml = 'Like what you see? Visit the ' +\n",
              "            '<a target=\"_blank\" href=https://colab.research.google.com/notebooks/data_table.ipynb>data table notebook</a>'\n",
              "            + ' to learn more about interactive tables.';\n",
              "          element.innerHTML = '';\n",
              "          dataTable['output_type'] = 'display_data';\n",
              "          await google.colab.output.renderOutput(dataTable, element);\n",
              "          const docLink = document.createElement('div');\n",
              "          docLink.innerHTML = docLinkHtml;\n",
              "          element.appendChild(docLink);\n",
              "        }\n",
              "      </script>\n",
              "    </div>\n",
              "  </div>\n",
              "  "
            ]
          },
          "metadata": {},
          "execution_count": 25
        }
      ],
      "source": [
        "def agg_3(col):\n",
        "    result = []\n",
        "    result.append(col.mean()) # mean\n",
        "    return pd.Series(result, index=['mean'])\n",
        "\n",
        "table = data_range.groupby('JobSat').agg(agg_3).round(1)\n",
        "table"
      ]
    },
    {
      "cell_type": "code",
      "execution_count": 26,
      "metadata": {
        "id": "yFrCTaypzYYT",
        "outputId": "70a6751a-bf48-4191-bf6e-a91cd442e61f",
        "colab": {
          "base_uri": "https://localhost:8080/",
          "height": 298
        }
      },
      "outputs": [
        {
          "output_type": "execute_result",
          "data": {
            "text/plain": [
              "<matplotlib.axes._subplots.AxesSubplot at 0x7fbbf2f45ad0>"
            ]
          },
          "metadata": {},
          "execution_count": 26
        },
        {
          "output_type": "display_data",
          "data": {
            "text/plain": [
              "<Figure size 432x288 with 1 Axes>"
            ],
            "image/png": "[encoded data removed]"
          },
          "metadata": {
            "needs_background": "light"
          }
        }
      ],
      "source": [
        "plt.xlabel('Số lượng người khảo sát')\n",
        "data_range['JobSat'].value_counts().plot.barh()"
      ]
    },
    {
      "cell_type": "markdown",
      "metadata": {
        "id": "_V93Qq7qzYYT"
      },
      "source": [
        "- It shows that the average working time a week fluctuates around 40 hours mainly, although the working time is not much different, the salary received in the group that feels very satisfied having the top earnings. The group is not satisfied or less satisfied, the salary is not too low > 9500 USD, while the group that feels normal work has no feeling about the job, the salary is much lower than the other groups.\n",
        "- The bar chart shows that currently most of the programmers are satisfied with their work, the data in column 4, 5 (satisfied and very satisfied) have 2 times higher salary than other groups."
      ]
    }
  ],
  "metadata": {
    "kernelspec": {
      "display_name": "Python 3 (ipykernel)",
      "language": "python",
      "name": "python3"
    },
    "language_info": {
      "codemirror_mode": {
        "name": "ipython",
        "version": 3
      },
      "file_extension": ".py",
      "mimetype": "text/x-python",
      "name": "python",
      "nbconvert_exporter": "python",
      "pygments_lexer": "ipython3",
      "version": "3.8.8"
    },
    "toc": {
      "base_numbering": 1,
      "nav_menu": {},
      "number_sections": false,
      "sideBar": true,
      "skip_h1_title": true,
      "title_cell": "Table of Contents",
      "title_sidebar": "Contents",
      "toc_cell": false,
      "toc_position": {
        "height": "calc(100% - 180px)",
        "left": "10px",
        "top": "150px",
        "width": "175px"
      },
      "toc_section_display": true,
      "toc_window_display": true
    },
    "colab": {
      "provenance": []
    }
  },
  "nbformat": 4,
  "nbformat_minor": 0
}